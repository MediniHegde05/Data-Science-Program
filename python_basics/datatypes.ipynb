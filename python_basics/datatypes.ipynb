{
 "cells": [
  {
   "cell_type": "markdown",
   "metadata": {},
   "source": [
    "# Data Types"
   ]
  },
  {
   "cell_type": "markdown",
   "metadata": {},
   "source": []
  },
  {
   "cell_type": "markdown",
   "metadata": {},
   "source": [
    "### Types of data: \n",
    "##### String: its just text and its immutable meaning it cannot be modified\n",
    "##### Integer: its a whole number\n",
    "##### Float: its decimal number\n",
    "##### Boolean: its True or False\n",
    "##### None: stores nothing\n"
   ]
  },
  {
   "cell_type": "markdown",
   "metadata": {},
   "source": []
  },
  {
   "cell_type": "code",
   "execution_count": 3,
   "metadata": {},
   "outputs": [
    {
     "name": "stdout",
     "output_type": "stream",
     "text": [
      "Hello World\n"
     ]
    }
   ],
   "source": [
    "#print Hello world\n",
    "print(\"Hello World\")"
   ]
  },
  {
   "cell_type": "code",
   "execution_count": 7,
   "metadata": {},
   "outputs": [
    {
     "name": "stdout",
     "output_type": "stream",
     "text": [
      "you are learning data science Medini\n"
     ]
    }
   ],
   "source": [
    "name = input(\"what's your name?\")\n",
    "print(\"you are learning data science\",name)"
   ]
  },
  {
   "cell_type": "markdown",
   "metadata": {},
   "source": [
    "## Variables\n",
    "##### variables are used to store any type of data "
   ]
  },
  {
   "cell_type": "code",
   "execution_count": 45,
   "metadata": {},
   "outputs": [
    {
     "name": "stdout",
     "output_type": "stream",
     "text": [
      "2\n",
      "medini\n",
      "4.5\n"
     ]
    }
   ],
   "source": [
    "# var1 is variable which has value 1\n",
    "var1 = 1\n",
    "var1 = 2\n",
    "print(var1)\n",
    "var2 = \"medini\"\n",
    "print(var2)\n",
    "var3 = 4.5\n",
    "print(var3)"
   ]
  },
  {
   "cell_type": "code",
   "execution_count": 47,
   "metadata": {},
   "outputs": [
    {
     "name": "stdout",
     "output_type": "stream",
     "text": [
      "you are 28 years old and  336 month old\n"
     ]
    }
   ],
   "source": [
    "# print age of a user by taking age as input\n",
    "age = input(\"enter your age\")\n",
    "age = int(age)\n",
    "print(\"you are\", age, \"years old and \", age*12, \"month old\")"
   ]
  },
  {
   "cell_type": "code",
   "execution_count": 14,
   "metadata": {},
   "outputs": [
    {
     "name": "stdout",
     "output_type": "stream",
     "text": [
      "3.0\n"
     ]
    }
   ],
   "source": [
    "x = 3.5\n",
    "print(float(int(x)))"
   ]
  },
  {
   "cell_type": "markdown",
   "metadata": {},
   "source": [
    "#### Find data types in python\n",
    "##### this is done using \"type()\"\n",
    "type() function is used to find what kind of data is being stored in a variable"
   ]
  },
  {
   "cell_type": "markdown",
   "metadata": {},
   "source": []
  },
  {
   "cell_type": "code",
   "execution_count": 55,
   "metadata": {},
   "outputs": [
    {
     "data": {
      "text/plain": [
       "float"
      ]
     },
     "execution_count": 55,
     "metadata": {},
     "output_type": "execute_result"
    }
   ],
   "source": [
    "\n",
    "var1 = 5.000000\n",
    "type(var1)"
   ]
  },
  {
   "cell_type": "code",
   "execution_count": 64,
   "metadata": {},
   "outputs": [
    {
     "name": "stdout",
     "output_type": "stream",
     "text": [
      "True\n",
      "2.0\n"
     ]
    }
   ],
   "source": [
    "#type casting in python: changing a current datatype to a different data type\n",
    "a = 1\n",
    "print(bool(a))\n",
    "b = 2\n",
    "print(float(b))"
   ]
  },
  {
   "cell_type": "code",
   "execution_count": 59,
   "metadata": {},
   "outputs": [
    {
     "name": "stdout",
     "output_type": "stream",
     "text": [
      "True\n"
     ]
    }
   ],
   "source": [
    "a = -1\n",
    "print(bool(a))"
   ]
  },
  {
   "cell_type": "markdown",
   "metadata": {},
   "source": [
    "#### Arithmetic Operations"
   ]
  },
  {
   "cell_type": "code",
   "execution_count": 65,
   "metadata": {},
   "outputs": [
    {
     "name": "stdout",
     "output_type": "stream",
     "text": [
      "Addition =  11\n",
      "Substraction =  -1\n",
      "Multiplication =  30\n",
      "Division =  0.8333333333333334\n",
      "Floor Division =  0\n",
      "Modulus or remainder =  5\n"
     ]
    }
   ],
   "source": [
    "a = 5\n",
    "b = 6\n",
    "print(\"Addition = \" , a+b)\n",
    "print(\"Substraction = \" , a-b)\n",
    "print(\"Multiplication = \" , a*b)\n",
    "print(\"Division = \" , a/b)\n",
    "print(\"Floor Division = \" , a//b)\n",
    "print(\"Modulus or remainder = \" , a%b)"
   ]
  },
  {
   "cell_type": "code",
   "execution_count": 22,
   "metadata": {},
   "outputs": [
    {
     "name": "stdout",
     "output_type": "stream",
     "text": [
      "11.857142857142858\n"
     ]
    }
   ],
   "source": [
    "#PEDMAS Parantehesis, E=EXPONNENT, DIV, M= MULTIPLY, ADDITION, SUBST\n",
    "print((4 * 5) - 9 + 6 / 7) "
   ]
  },
  {
   "cell_type": "code",
   "execution_count": 66,
   "metadata": {},
   "outputs": [
    {
     "name": "stdout",
     "output_type": "stream",
     "text": [
      "7.0\n"
     ]
    }
   ],
   "source": [
    "x = 5\n",
    "y = 10\n",
    "z = 5\n",
    "print(x + y / z)"
   ]
  },
  {
   "cell_type": "code",
   "execution_count": 25,
   "metadata": {},
   "outputs": [
    {
     "data": {
      "text/plain": [
       "-2"
      ]
     },
     "execution_count": 25,
     "metadata": {},
     "output_type": "execute_result"
    }
   ],
   "source": [
    "4 % (1 + 9)**2 - 60 // (7 + 2)"
   ]
  },
  {
   "cell_type": "markdown",
   "metadata": {},
   "source": [
    "#### String Operations are different operation to manipulate a string\n",
    "##### 1 CONCATENATION"
   ]
  },
  {
   "cell_type": "code",
   "execution_count": null,
   "metadata": {},
   "outputs": [
    {
     "name": "stdout",
     "output_type": "stream",
     "text": [
      "you would like to have vanilla icecream icecream\n",
      "medini chetan\n"
     ]
    }
   ],
   "source": [
    "#string concatenation: joining two strings using '+' operator\n",
    "flavour = input(\"what flavour?\")\n",
    "desert_type = input(\"what type of desert?\")\n",
    "print(\"you would like to have\" + ' ' + flavour + ' ' + desert_type)\n",
    "print(\"medini\", \"chetan\")"
   ]
  },
  {
   "cell_type": "markdown",
   "metadata": {},
   "source": [
    "### 2. indexing string\n",
    "##### Forward indexing starts with 0\n",
    "##### Reverse index starts with last char as -1 in python string\n",
    "##### string are immutable\n",
    "##### strings can be modified by slicing a part of it and concatenating with another\n"
   ]
  },
  {
   "cell_type": "code",
   "execution_count": 8,
   "metadata": {},
   "outputs": [
    {
     "name": "stdout",
     "output_type": "stream",
     "text": [
      "38\n"
     ]
    },
    {
     "data": {
      "text/plain": [
       "'I'"
      ]
     },
     "execution_count": 8,
     "metadata": {},
     "output_type": "execute_result"
    }
   ],
   "source": [
    "string = \"I have been studying and working today\"\n",
    "print(len(string))\n",
    "#accessing first char in a string \n",
    "string[0]"
   ]
  },
  {
   "cell_type": "code",
   "execution_count": 39,
   "metadata": {},
   "outputs": [
    {
     "name": "stdout",
     "output_type": "stream",
     "text": [
      "I have been sleeping and working today\n"
     ]
    }
   ],
   "source": [
    "# trying to change the char at index 2\n",
    "# this will be an error as string are immutable\n",
    "# only way to change a word from that string would be creatig a new variable with the word to be replaced\n",
    "string = \"I have been sleeping and working today\"\n",
    "print(string)"
   ]
  },
  {
   "cell_type": "markdown",
   "metadata": {},
   "source": [
    "#### 3. SLICING\n",
    "string[start:end:step]"
   ]
  },
  {
   "cell_type": "code",
   "execution_count": 35,
   "metadata": {},
   "outputs": [
    {
     "name": "stdout",
     "output_type": "stream",
     "text": [
      "63\n",
      "ia tae heu u 0wsh nto\n"
     ]
    }
   ],
   "source": [
    "# slicing by specific start and indexing\n",
    "statement = \"i have not failed, i have just found 1000 ways that wont't work\"\n",
    "print(len(statement))\n",
    "sliced_string = statement[::3]\n",
    "print(sliced_string)\n",
    "# sliced string will print string by skipping 3 char from start to end position"
   ]
  },
  {
   "cell_type": "code",
   "execution_count": 36,
   "metadata": {},
   "outputs": [
    {
     "name": "stdout",
     "output_type": "stream",
     "text": [
      "True\n"
     ]
    }
   ],
   "source": [
    "#Membership is basically gives you in the form of true or false\n",
    "statement = \" i have not failed, i have just found 1000 ways that wont't work\"\n",
    "print(\"failed\" in statement)"
   ]
  },
  {
   "cell_type": "markdown",
   "metadata": {},
   "source": [
    "#### STRING METHODS\n",
    "##### lower()\n",
    "##### upper()\n",
    "##### strip()\n",
    "##### count(substring,beign,end)\n",
    "##### The split()"
   ]
  },
  {
   "cell_type": "code",
   "execution_count": 4,
   "metadata": {},
   "outputs": [
    {
     "data": {
      "text/plain": [
       "'i am tall'"
      ]
     },
     "execution_count": 4,
     "metadata": {},
     "output_type": "execute_result"
    }
   ],
   "source": [
    "small = \"I aM tall\"\n",
    "small.lower()\n",
    "\n"
   ]
  },
  {
   "cell_type": "code",
   "execution_count": 5,
   "metadata": {},
   "outputs": [
    {
     "data": {
      "text/plain": [
       "'I AM UPPER CASED'"
      ]
     },
     "execution_count": 5,
     "metadata": {},
     "output_type": "execute_result"
    }
   ],
   "source": [
    "big = \"i am upper cased\"\n",
    "big.upper()"
   ]
  },
  {
   "cell_type": "code",
   "execution_count": 9,
   "metadata": {},
   "outputs": [
    {
     "name": "stdout",
     "output_type": "stream",
     "text": [
      "   I am checking the whitespace\n"
     ]
    }
   ],
   "source": [
    "# rstrip function will remove the whitespace in the right side of the string\n",
    "#lstrip will remove whitespaces from left site of the string\n",
    "\n",
    "some_sentense = \"   I am checking the whitespace  \"\n",
    "print(some_sentense.rstrip())"
   ]
  },
  {
   "cell_type": "code",
   "execution_count": 11,
   "metadata": {},
   "outputs": [
    {
     "name": "stdout",
     "output_type": "stream",
     "text": [
      "   I am checking the whitespace  \n",
      "I am checking the whitespace\n"
     ]
    }
   ],
   "source": [
    "#strip will remove all the whitespaces from the start and end of the string\n",
    "some_sentense = \"   I am checking the whitespace  \"\n",
    "print(some_sentense)\n",
    "print(some_sentense.strip())"
   ]
  },
  {
   "cell_type": "code",
   "execution_count": 15,
   "metadata": {},
   "outputs": [
    {
     "name": "stdout",
     "output_type": "stream",
     "text": [
      "medinihegde\n"
     ]
    }
   ],
   "source": [
    "num_char = \"@@@@@medinihegde******\"\n",
    "print(num_char.lstrip(\"@\").rstrip( \"*\"))\n"
   ]
  },
  {
   "cell_type": "code",
   "execution_count": 45,
   "metadata": {},
   "outputs": [
    {
     "name": "stdout",
     "output_type": "stream",
     "text": [
      "medini\n"
     ]
    }
   ],
   "source": [
    "sentence1 = \"chetanmedinichethan\"\n",
    "print(sentence1.strip(\"chetan\"))"
   ]
  },
  {
   "cell_type": "code",
   "execution_count": 61,
   "metadata": {},
   "outputs": [
    {
     "name": "stdout",
     "output_type": "stream",
     "text": [
      "['Hello', 'World!']\n"
     ]
    }
   ],
   "source": [
    "#split() function will splits the string into substring on the separator choosen\n",
    "\n",
    "a = \"Hello,World!     \"\n",
    "print( a.rstrip().split(\",\"))"
   ]
  },
  {
   "cell_type": "code",
   "execution_count": 66,
   "metadata": {},
   "outputs": [
    {
     "name": "stdout",
     "output_type": "stream",
     "text": [
      "1\n",
      "0\n"
     ]
    }
   ],
   "source": [
    "#count() will count a particular char in the string\n",
    "a = \"i want to count t in the string\"\n",
    "print(a.count(\" \"))"
   ]
  },
  {
   "cell_type": "code",
   "execution_count": 18,
   "metadata": {},
   "outputs": [
    {
     "name": "stdout",
     "output_type": "stream",
     "text": [
      "2\n"
     ]
    }
   ],
   "source": [
    "#count(subsrting,begin,end) will take a char to be counted from specific index to the index we would like to choose\n",
    "a = \"i want to count t in the string\"\n",
    "print(a.count(\"t\",5,9))"
   ]
  },
  {
   "cell_type": "code",
   "execution_count": 23,
   "metadata": {},
   "outputs": [
    {
     "name": "stdout",
     "output_type": "stream",
     "text": [
      "Data Analytics using Pandas\n",
      "Data Analytics Pandas\n"
     ]
    }
   ],
   "source": [
    "#using format we can do string formatting meaning the index postion will provide which strings to be considers first or second\n",
    "A =\"Data\"\n",
    "B =\"Analytics\"\n",
    "C = \"Pandas\"\n",
    "print(\"{0} {1} using {2}\".format(A,B,C))\n",
    "print(f'{A} {B} {C}')"
   ]
  },
  {
   "cell_type": "code",
   "execution_count": 4,
   "metadata": {},
   "outputs": [
    {
     "name": "stdout",
     "output_type": "stream",
     "text": [
      "hello medini\n"
     ]
    }
   ],
   "source": [
    "#use replace() replaces a particular part of the string\n",
    "mystring = \"hello world\"\n",
    "print(mystring.replace(\"world\", 'medini'))\n"
   ]
  },
  {
   "cell_type": "code",
   "execution_count": null,
   "metadata": {},
   "outputs": [],
   "source": [
    "\n"
   ]
  },
  {
   "cell_type": "markdown",
   "metadata": {},
   "source": [
    "# Practice Exercise"
   ]
  },
  {
   "cell_type": "markdown",
   "metadata": {},
   "source": [
    "Question 1: Let us start by printing the word \"Welcome to the practice exercise\" in python."
   ]
  },
  {
   "cell_type": "code",
   "execution_count": null,
   "metadata": {},
   "outputs": [
    {
     "name": "stdout",
     "output_type": "stream",
     "text": [
      "Welcome to the practice exercise\n"
     ]
    }
   ],
   "source": [
    "# Print the statement:\n",
    "print(\"Welcome to the practice exercise\")"
   ]
  },
  {
   "cell_type": "markdown",
   "metadata": {},
   "source": [
    "Question 2: Create a string variable and print the string."
   ]
  },
  {
   "cell_type": "code",
   "execution_count": null,
   "metadata": {},
   "outputs": [
    {
     "name": "stdout",
     "output_type": "stream",
     "text": [
      "Hi its medini\n"
     ]
    }
   ],
   "source": [
    "# Create a string variable:\n",
    "string_variable = \"Hi its medini\"\n",
    "\n",
    "# Print the string:\n",
    "print(string_variable)"
   ]
  },
  {
   "cell_type": "markdown",
   "metadata": {},
   "source": [
    "Question 3: Create a string by taking user input and print the string."
   ]
  },
  {
   "cell_type": "code",
   "execution_count": null,
   "metadata": {},
   "outputs": [
    {
     "name": "stdout",
     "output_type": "stream",
     "text": [
      "medini\n"
     ]
    }
   ],
   "source": [
    "# Create a string variable taking user input:\n",
    "string1 = input(\"What's your name?\")\n",
    "\n",
    "# Print the string:\n",
    "print(string1)"
   ]
  },
  {
   "cell_type": "markdown",
   "metadata": {},
   "source": [
    "Question 4: Print the pattern given below:\n",
    "\n",
    "\n",
    "\n",
    "![image.png](data:image/png;base64,iVBORw0KGgoAAAANSUhEUgAAADIAAABFCAYAAAAIGLXIAAACvklEQVRoBe1abW7DIAzljJF6oSpXSY/SHWQ/egxPgA3GfAwxEO3kSVP4NLz3TGInNfBP/sw/wQEK5N2UVEVUkUUMqGstInbYrCoyTN2iiarIImKHzaoiPdS9HgcYY+D86hn9tzGLFHnBdTNwPC44PxmIVcKr8PxsINFJFEjkorO06IzQ6qoIMdF9VUWaVH2d7vlhnyH8f+XzZLEiTbhTOxXIVDonGFNFJpA41YQqMpXOCcZUkQkkTjWhikAShhxwfTOCvy84eHhyu+DFukORxtX6w8DfC4OK2PD8hCfa97l5rMtln3cD5k6jqdenw+f9BLMPCG0Gr45ZoQob4oAKIK7NArDKfgYQZJ6/SeHA3weI32jmOvwMCcatqx0PPDXvAsT5v9go8ypfdKDwDMmNy3o2ua9h8LB74w4EO/T1Je3NwZ8hPydNuCj5+kviNQykHwRAONglpFsVofs/f1bYMt2ZnCsx1luutxVIidnNbcOutXnf2fIKJKNkc4MqslmAbHlVJKNkc4MqslmAbPmqIj7rY2FG6aNmEqrExKoWGMag0H8AomDRyMAzsdv3VbgJJOQMGX4An7PHzZeGhDaeSEGeaDngFKeB+MqVzA0Ws8IgELuZThCA0W+y0XQuT4VLkbIF2iQVoP7jTGuwOtmxdMKFPwhwLlKNcGMuQjQmKQC6EbkdB0XjS23UR9emItGHWYhuZ2KYHoFW0t1MDVo22jCYcIUe6UoINKQIYWBaqAJJh4mNlnKIUpv0dzTqFCEFM1LQFSnXuV3wbHkH2uwEIvwcXSt5U1UAUvJ3kIzbjTgw7fdi5HopwbHWBwTljca8QtK1Yt0uIO4+tGZmCyBRiMbh1fWFG4XoZNUKEHQlklf6sTOQPgtSEO3N0RkLZ5DcrMMu23tSrABJxnxERYG8m0yqiCqyiAF1rUXEDpv9AT7GtDRI+0oLAAAAAElFTkSuQmCC)"
   ]
  },
  {
   "cell_type": "code",
   "execution_count": null,
   "metadata": {},
   "outputs": [
    {
     "name": "stdout",
     "output_type": "stream",
     "text": [
      "  1  \n",
      " 234 \n",
      "56789\n"
     ]
    }
   ],
   "source": [
    "# Print the pattern shown in the question above:\n",
    "print(\"  1  \")\n",
    "print(\" 234 \")\n",
    "print(\"56789\")\n"
   ]
  },
  {
   "cell_type": "markdown",
   "metadata": {},
   "source": [
    "Question 5: Print the '#' symbol 15 times without having to type it for 15 times."
   ]
  },
  {
   "cell_type": "code",
   "execution_count": null,
   "metadata": {},
   "outputs": [
    {
     "name": "stdout",
     "output_type": "stream",
     "text": [
      "###############\n"
     ]
    }
   ],
   "source": [
    "# Print the pattern shown in the question above:\n",
    "print(\"#\"*15)"
   ]
  },
  {
   "cell_type": "markdown",
   "metadata": {},
   "source": [
    "Question 6: Take the user input to print the current date"
   ]
  },
  {
   "cell_type": "code",
   "execution_count": null,
   "metadata": {},
   "outputs": [
    {
     "name": "stdout",
     "output_type": "stream",
     "text": [
      "26apr2024\n"
     ]
    }
   ],
   "source": [
    "# Take the user input into a string:\n",
    "date = input(\"enter the date\")\n",
    "\n",
    "# Print the date:\n",
    "print(date)"
   ]
  },
  {
   "cell_type": "markdown",
   "metadata": {},
   "source": [
    "Question 7: Type cast the interger 1.8 into a string and print the result."
   ]
  },
  {
   "cell_type": "code",
   "execution_count": null,
   "metadata": {},
   "outputs": [
    {
     "name": "stdout",
     "output_type": "stream",
     "text": [
      "1.8\n"
     ]
    },
    {
     "data": {
      "text/plain": [
       "str"
      ]
     },
     "metadata": {},
     "output_type": "display_data"
    }
   ],
   "source": [
    "# Store the interger as a varaible:\n",
    "var1 = 1.8\n",
    "\n",
    "# Typecast the integer:\n",
    "var1 = str(var1)\n",
    "# Print the result:\n",
    "print(var1)\n",
    "type(var1)"
   ]
  },
  {
   "cell_type": "markdown",
   "metadata": {},
   "source": [
    "Question 8: Find the product of two numbers input by the user."
   ]
  },
  {
   "cell_type": "code",
   "execution_count": null,
   "metadata": {},
   "outputs": [
    {
     "name": "stdout",
     "output_type": "stream",
     "text": [
      "156\n"
     ]
    },
    {
     "data": {
      "text/plain": [
       "int"
      ]
     },
     "metadata": {},
     "output_type": "display_data"
    }
   ],
   "source": [
    "# Take input of the first number and store it in a variable:\n",
    "first_number = input()\n",
    "\n",
    "# Take input of the second number and store it in a variable:\n",
    "sec_number = input()\n",
    "# You will need to typecast the input strings into integers\n",
    "# Calculate the product:\n",
    "product = int(first_number) * int(sec_number)\n",
    "# Print the result:\n",
    "print(product)\n",
    "type(product)"
   ]
  },
  {
   "cell_type": "markdown",
   "metadata": {},
   "source": [
    "Question 9: Calculate the remainder of the number 6 when divided by the number 4."
   ]
  },
  {
   "cell_type": "code",
   "execution_count": null,
   "metadata": {},
   "outputs": [
    {
     "name": "stdout",
     "output_type": "stream",
     "text": [
      "remainder of 6 when deivided by 4 = 2\n"
     ]
    }
   ],
   "source": [
    "# Find the modulus and print the result:\n",
    "print(\"remainder of 6 when deivided by 4 =\", 6 %4)"
   ]
  },
  {
   "cell_type": "markdown",
   "metadata": {},
   "source": [
    "Question 10: Solve the error in code below and print the correct result."
   ]
  },
  {
   "cell_type": "code",
   "execution_count": null,
   "metadata": {},
   "outputs": [
    {
     "name": "stdout",
     "output_type": "stream",
     "text": [
      "I can't study any longer\n"
     ]
    }
   ],
   "source": [
    "# Given:\n",
    "print('I can't study any longer')\n",
    "\n",
    "# Corrected solution:\n",
    "print(\"I can't study any longer\")"
   ]
  },
  {
   "cell_type": "markdown",
   "metadata": {},
   "source": [
    "Question 11: Print the following statement using only 1 print statement:\n",
    "\n",
    "Hello\n",
    "\n",
    "Good Morning"
   ]
  },
  {
   "cell_type": "code",
   "execution_count": null,
   "metadata": {},
   "outputs": [
    {
     "name": "stdout",
     "output_type": "stream",
     "text": [
      "Hello\n",
      "Good morning\n"
     ]
    }
   ],
   "source": [
    "# Print the required statement:\\ \n",
    "print(\"Hello\\nGood morning\")"
   ]
  },
  {
   "cell_type": "markdown",
   "metadata": {},
   "source": [
    "Question 12: Concatenate the given strings and print the result:\n"
   ]
  },
  {
   "cell_type": "code",
   "execution_count": null,
   "metadata": {},
   "outputs": [
    {
     "name": "stdout",
     "output_type": "stream",
     "text": [
      "Welcome to upgradcoding practice session.\n"
     ]
    }
   ],
   "source": [
    "# Given below are the two strings:\n",
    "string1= 'Welcome to upgrad'\n",
    "string2= 'coding practice session.'\n",
    "\n",
    "# Concatenate and print the result:\n",
    "concatenated_string = string1 + string2\n",
    "print(concatenated_string)"
   ]
  },
  {
   "cell_type": "markdown",
   "metadata": {},
   "source": [
    "Question 13: Find the length of string given below and print the result.\n"
   ]
  },
  {
   "cell_type": "code",
   "execution_count": null,
   "metadata": {},
   "outputs": [
    {
     "name": "stdout",
     "output_type": "stream",
     "text": [
      "41\n"
     ]
    }
   ],
   "source": [
    "# Given below is the string:\n",
    "string = \"i want to check then length of the string\"\n",
    "\n",
    "# Calculate and print the length:\n",
    "print(len(string))"
   ]
  },
  {
   "cell_type": "markdown",
   "metadata": {},
   "source": [
    "Question 14: Create a string of length=10. Obtain the fifth and seventh character of the string. Concatenate the characters and form a new string. Print the new string."
   ]
  },
  {
   "cell_type": "code",
   "execution_count": null,
   "metadata": {},
   "outputs": [
    {
     "name": "stdout",
     "output_type": "stream",
     "text": [
      "10\n",
      "d and n\n"
     ]
    }
   ],
   "source": [
    "# Create a string of length 10:\n",
    "string3 = \"Hi Medini!\"\n",
    "# You can verify the length:\n",
    "print(len(string3))\n",
    "# Obtain the fifth letter and store it into a new string:\n",
    "fifth_letter = string3[5]\n",
    "# Obtain the seventh letter and store it into a new string:\n",
    "seventh_letter = string3[7]\n",
    "# Concatenate the two strings:\n",
    "# Print the result:\n",
    "print(fifth_letter + \" and \" + seventh_letter)\n"
   ]
  },
  {
   "cell_type": "markdown",
   "metadata": {},
   "source": [
    "Question 15: Given below is a string. Perform the following operations and print the results:\n",
    "1. Remove the extra spaces from the string and print the new string.\n",
    "2. Find the length of new string\n",
    "3. Remove the last 5 characters of the new string\n",
    "4. Find the 15th character of the new string\n",
    "5. Compute the result of concatenation of the first and last letter of the new string.\n"
   ]
  },
  {
   "cell_type": "code",
   "execution_count": null,
   "metadata": {},
   "outputs": [
    {
     "name": "stdout",
     "output_type": "stream",
     "text": [
      "I hope you enjoyed this practice session.\n",
      "41\n",
      "I hope you enjoyed this practice ses\n",
      "o\n",
      "Is\n"
     ]
    }
   ],
   "source": [
    "# Given below is the string:\n",
    "line= '     I hope you enjoyed this practice session.'\n",
    "\n",
    "# Removing extra spaces:\n",
    "no_space = line.strip()\n",
    "\n",
    "# Print the result:\n",
    "print(no_space)\n",
    "# Calculate the length:\n",
    "print(len(no_space))\n",
    "# Slice the string to remove the last 5 characters:\n",
    "sliced_string = no_space[:36]\n",
    "# Print the result:\n",
    "print(sliced_string)\n",
    "# Print the 15th character of the string:\n",
    "print(sliced_string[14])\n",
    "# Print the concatenation of first and last character of resulting string:\n",
    "print(sliced_string[0] +  sliced_string[-1])"
   ]
  },
  {
   "cell_type": "code",
   "execution_count": 8,
   "metadata": {},
   "outputs": [
    {
     "name": "stdout",
     "output_type": "stream",
     "text": [
      "mumbai,goa\n"
     ]
    }
   ],
   "source": [
    "a = \"mguomab#a#i#\"\n",
    "b = a[::2]\n",
    "c = a[1::2]\n",
    "print(b.strip(\"#\") + \",\" + c.strip(\"#\"))\n"
   ]
  },
  {
   "cell_type": "markdown",
   "metadata": {},
   "source": [
    "Write a program to display whether the input is a digit or a letter of the alphabet."
   ]
  },
  {
   "cell_type": "code",
   "execution_count": 10,
   "metadata": {},
   "outputs": [
    {
     "name": "stdout",
     "output_type": "stream",
     "text": [
      "Alphabet\n"
     ]
    }
   ],
   "source": [
    "inp=input()\n",
    "if inp.isdigit():\n",
    "    print(\"Integer\")\n",
    "    print(type(inp))\n",
    "else:\n",
    "    print(\"Alphabet\")"
   ]
  },
  {
   "cell_type": "markdown",
   "metadata": {},
   "source": [
    "Write a program to accept a character and display its next and previous character. \n",
    "\n"
   ]
  },
  {
   "cell_type": "code",
   "execution_count": 40,
   "metadata": {},
   "outputs": [
    {
     "name": "stdout",
     "output_type": "stream",
     "text": [
      "8\n",
      "6\n"
     ]
    }
   ],
   "source": [
    "# step 1: enter your character\n",
    "character = input(\"enter your character\")\n",
    "#convert the character into ascii value\n",
    "char_ascii_value = ord(character)\n",
    "#access the previous character of the given character by ascii value\n",
    "prev_ascii_value = char_ascii_value - 1\n",
    "#print the converted ascii value to get the previous character of given character\n",
    "print(chr(prev_ascii_value))\n",
    "#access the next character of the given character by ascii value\n",
    "next_ascii_value = char_ascii_value + 1\n",
    "#print the converted ascii value to get the next character of given character\n",
    "print(chr(next_ascii_value))\n",
    "\n",
    "\n",
    "\n",
    "\n",
    "\n"
   ]
  },
  {
   "cell_type": "markdown",
   "metadata": {},
   "source": [
    "Write a program to accept a string from the user, delete all vowels from the string and display the result. "
   ]
  },
  {
   "cell_type": "code",
   "execution_count": 51,
   "metadata": {},
   "outputs": [
    {
     "name": "stdout",
     "output_type": "stream",
     "text": [
      "pgrd\n"
     ]
    }
   ],
   "source": [
    "#take your input as a string\n",
    "string_value = input(\"enter your string\")\n",
    "#assign a variable vowel which contains vowels\n",
    "vowels = \"aeiouAEIOU\"\n",
    "#for each vowel in vowels \n",
    "for v in vowels:\n",
    "    # replace the vowel with an empty string to remove that vowel from the string\n",
    "    string_value = string_value.replace(v, \"\")\n",
    "#print the string\n",
    "print(string_value)\n"
   ]
  },
  {
   "cell_type": "markdown",
   "metadata": {},
   "source": [
    "Write a program to accept three sides of a triangle as the input and print whether the triangle is valid or not.\n",
    "\n",
    "(A triangle is valid if the sum of any two sides is greater than the third side.)"
   ]
  },
  {
   "cell_type": "code",
   "execution_count": 71,
   "metadata": {},
   "outputs": [
    {
     "name": "stdout",
     "output_type": "stream",
     "text": [
      "Valid\n"
     ]
    }
   ],
   "source": [
    "#take 3 input values and split it\n",
    "a,b,c= input().split()\n",
    "# convert each value from list into interger\n",
    "a = int(a)\n",
    "b = int(b)\n",
    "c = int(c)\n",
    "# any two sides should be greater than or equal to third side  \n",
    "if a + b > c and b + c > a and c + a > b:\n",
    "    #print as Valid\n",
    "    print(\"Valid\")\n",
    "#else print as its Invalid\n",
    "else:\n",
    "    print(\"Invalid\")"
   ]
  },
  {
   "cell_type": "markdown",
   "metadata": {},
   "source": [
    "Write a program to display the multiplication table of a given number."
   ]
  },
  {
   "cell_type": "code",
   "execution_count": 11,
   "metadata": {},
   "outputs": [
    {
     "name": "stdout",
     "output_type": "stream",
     "text": [
      "215 * 1 = 215\n",
      "215 * 2 = 430\n",
      "215 * 3 = 645\n",
      "215 * 4 = 860\n",
      "215 * 5 = 1075\n",
      "215 * 6 = 1290\n",
      "215 * 7 = 1505\n",
      "215 * 8 = 1720\n",
      "215 * 9 = 1935\n",
      "215 * 10 = 2150\n"
     ]
    }
   ],
   "source": [
    "# take a number as an input in the form of integer\n",
    "number = int(input())\n",
    "# in the range of 1 to 11, multiple the number with each of the number from 1 to 11\n",
    "for i in range(1,11):\n",
    "        # print the multiplied number\n",
    "        print(f'{number} * {i} = {number * i}')"
   ]
  },
  {
   "cell_type": "markdown",
   "metadata": {},
   "source": [
    "Write a program to accept a string value from the user and accept a char value from the user and find out the total occurrence of the char value in the string value. Note that the count is not case-sensitive"
   ]
  },
  {
   "cell_type": "code",
   "execution_count": 32,
   "metadata": {},
   "outputs": [
    {
     "name": "stdout",
     "output_type": "stream",
     "text": [
      "2\n"
     ]
    }
   ],
   "source": [
    "# take two input one input string and another character\n",
    "input_string = input(\"Enter a string\")\n",
    "input_char = input(\"Enter a character\")\n",
    "\n",
    "# Convert both the string and the char to lowercase to make the search case-insensitive\n",
    "string_upper = input_string.upper()\n",
    "char_upper = input_char.upper()\n",
    "\n",
    "# Count occurrences using count() method\n",
    "occurrences = string_upper.count(char_upper)\n",
    "\n",
    "# Display the result\n",
    "print(occurrences)\n",
    "    \n",
    "     "
   ]
  },
  {
   "cell_type": "markdown",
   "metadata": {},
   "source": [
    "Write a program to calculate the sum of the digits of a given number "
   ]
  },
  {
   "cell_type": "code",
   "execution_count": 26,
   "metadata": {},
   "outputs": [
    {
     "name": "stdout",
     "output_type": "stream",
     "text": [
      "the number is 5241, and its total sum is 12\n"
     ]
    }
   ],
   "source": [
    "#take input from the user\n",
    "number = int(input())\n",
    "#Convert the number to a string \n",
    "string_num = str(number)\n",
    "#initalise total sum to 0\n",
    "total_sum = 0\n",
    "#for each number from the string number convert the string number to integer and add it to total sum \n",
    "for num in string_num:\n",
    "    total_sum += int(num)\n",
    "    #print total sum\n",
    "print(f'the number is {number}, and its total sum is {total_sum}')\n"
   ]
  },
  {
   "cell_type": "markdown",
   "metadata": {},
   "source": [
    "Write a program to accept a number from the user and count the zeros, odd digits and non-zero even digits from the entered number."
   ]
  },
  {
   "cell_type": "code",
   "execution_count": 45,
   "metadata": {},
   "outputs": [
    {
     "name": "stdout",
     "output_type": "stream",
     "text": [
      "Number of odd digits: 2\n",
      "Number of non-zero even digits: 0\n",
      "Number of zeros: 2\n"
     ]
    }
   ],
   "source": [
    "# accept an input integer n from user\n",
    "n = int(input())\n",
    "#convert the number from int to str\n",
    "string_n = str(n)\n",
    "#initalise the even,odd and number of zero occurance to \"0\"\n",
    "count_odd = 0\n",
    "count_even = 0\n",
    "count_zero = 0\n",
    "# for each number from the string number\n",
    "for number in string_n:\n",
    "    # if the int of that number is not divisible by 2 increase the count to +1\n",
    "    if int(number) % 2 != 0:\n",
    "        count_odd += 1\n",
    "        # if the int of that number is  divisible by 2 increase the count to +1\n",
    "    elif int(number) % 2 == 0 and int(number) != 0:\n",
    "        count_even += 1\n",
    "    # else just increase the count of by to +1\n",
    "    else:\n",
    "        count_zero += 1\n",
    "print(f'Number of odd digits: {count_odd}')\n",
    "print(f'Number of non-zero even digits: {count_even}')\n",
    "print(f'Number of zeros: {count_zero}')\n"
   ]
  },
  {
   "cell_type": "markdown",
   "metadata": {},
   "source": [
    "Write a program that takes a string as the input and does the following:\n",
    "\n",
    "    -Removes the numbers, special characters\n",
    "\n",
    "    -Converts uppercase letters to lowercase letters, and vice versa "
   ]
  },
  {
   "cell_type": "code",
   "execution_count": 71,
   "metadata": {},
   "outputs": [
    {
     "name": "stdout",
     "output_type": "stream",
     "text": [
      "the input string is:  Programming is 100% fun and the converted string is: pROGRAMMINGISFUN\n"
     ]
    }
   ],
   "source": [
    "# take input from user as input string\n",
    "input_string=input()\n",
    "#initalise a converted string with empty string\n",
    "converted_string = \"\"\n",
    "string_alpha = True\n",
    "#for each char from the input string\n",
    "for char in input_string:\n",
    "    #if char is lower cased conver to upper and if that char has only strings and no special or digits in it using isalpha()\n",
    "    if char.islower():\n",
    "        if char.isalpha():\n",
    "                string_alpha = True\n",
    "        #then convert the char to upper and add it to converted string\n",
    "        converted_string += char.upper()\n",
    "#else if char is upper cased conver to lower and if that char has only strings and no special or digits in it\n",
    "    elif char.isupper():\n",
    "        if char.isalpha():\n",
    "                string_alpha = True\n",
    "        #then convert the char to lower and add it to converted string using isalpha()\n",
    "        converted_string += char.lower()\n",
    "#print the converted string\n",
    "print(f'the input string is:{input_string} and the converted string is: {converted_string}')"
   ]
  }
 ],
 "metadata": {
  "kernelspec": {
   "display_name": "base",
   "language": "python",
   "name": "python3"
  },
  "language_info": {
   "codemirror_mode": {
    "name": "ipython",
    "version": 3
   },
   "file_extension": ".py",
   "mimetype": "text/x-python",
   "name": "python",
   "nbconvert_exporter": "python",
   "pygments_lexer": "ipython3",
   "version": "3.11.7"
  }
 },
 "nbformat": 4,
 "nbformat_minor": 2
}
