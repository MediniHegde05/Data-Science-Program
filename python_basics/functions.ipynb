{
 "cells": [
  {
   "cell_type": "markdown",
   "metadata": {},
   "source": [
    "### FUNCTIONS\n",
    "functions are block of organised reusable code that can be used to perform single related action<br>\n",
    "USER DEFINED funtions are the one we can create on our own and few are already defined functions like append(), add() etc"
   ]
  },
  {
   "attachments": {
    "image.png": {
     "image/png": "[encoded data removed]"
    }
   },
   "cell_type": "markdown",
   "metadata": {},
   "source": [
    "### syntax of function\n",
    "![image.png](attachment:image.png)"
   ]
  },
  {
   "cell_type": "markdown",
   "metadata": {},
   "source": [
    "Write a function which takes a value as a parameter and returns its factorial"
   ]
  },
  {
   "cell_type": "code",
   "execution_count": 1,
   "metadata": {},
   "outputs": [
    {
     "data": {
      "text/plain": [
       "120"
      ]
     },
     "execution_count": 1,
     "metadata": {},
     "output_type": "execute_result"
    }
   ],
   "source": [
    "def factorial(n):\n",
    "    fact = 1\n",
    "    for i in range (1, n+1):\n",
    "        fact = fact * i\n",
    "    return fact\n",
    "\n",
    "factorial(5)"
   ]
  },
  {
   "cell_type": "markdown",
   "metadata": {},
   "source": [
    "Create a function squared(), which takes x and y as arguments and returns the x**y value. For e.g., if x = 2 and y = 3 , then the output is 8."
   ]
  },
  {
   "cell_type": "code",
   "execution_count": 5,
   "metadata": {},
   "outputs": [
    {
     "data": {
      "text/plain": [
       "8"
      ]
     },
     "execution_count": 5,
     "metadata": {},
     "output_type": "execute_result"
    }
   ],
   "source": [
    "def squared(x,y):\n",
    "    return x ** y\n",
    "squared(2,3)\n"
   ]
  },
  {
   "cell_type": "code",
   "execution_count": 6,
   "metadata": {},
   "outputs": [
    {
     "name": "stdout",
     "output_type": "stream",
     "text": [
      "279936\n"
     ]
    }
   ],
   "source": [
    "import ast\n",
    "input_str = input()\n",
    "input_list = ast.literal_eval(input_str)\n",
    "x = int(input_list[0])\n",
    "y = int(input_list[1])\n",
    "\n",
    "#Write your code here\n",
    "def squared(x,y):\n",
    "    return x ** y\n",
    "\n",
    "print(squared(x,y))"
   ]
  },
  {
   "cell_type": "markdown",
   "metadata": {},
   "source": [
    "### LAMBDA FUNCTION\n",
    "\n",
    "A lambda function in Python is a small anonymous function . It can take any number of arguments, but can only have one expression. <br>\n",
    "function_name  = lambda <space>  input_parameters :  output_parameters "
   ]
  },
  {
   "cell_type": "code",
   "execution_count": 11,
   "metadata": {},
   "outputs": [
    {
     "data": {
      "text/plain": [
       "'odd'"
      ]
     },
     "execution_count": 11,
     "metadata": {},
     "output_type": "execute_result"
    }
   ],
   "source": [
    "# write a function to check if a number is even or odd\n",
    "f = lambda x: \"even\" if x % 2 == 0 else \"odd\"\n",
    "f(5)"
   ]
  },
  {
   "cell_type": "markdown",
   "metadata": {},
   "source": [
    "Create a lambda function 'greater', which takes two arguments x and y and return x if x>y otherwise y.\n",
    "\n",
    "If x = 2 and y= 3, then the output should be 3.\n",
    "\n",
    "\n",
    "\n",
    "Sample Input:\n",
    "\n",
    "['9','3']\n",
    "\n",
    "\n",
    "\n",
    "Sample Output:\n",
    "\n",
    "﻿9"
   ]
  },
  {
   "cell_type": "code",
   "execution_count": 12,
   "metadata": {},
   "outputs": [
    {
     "name": "stdout",
     "output_type": "stream",
     "text": [
      "9\n"
     ]
    }
   ],
   "source": [
    "import ast,sys\n",
    "input_str = input()\n",
    "input_list = ast.literal_eval(input_str)\n",
    "a = int(input_list[0])\n",
    "b = int(input_list[1])\n",
    "\n",
    "greater = lambda a,b : a if a > b else b\n",
    "\n",
    "print(greater(a,b))"
   ]
  },
  {
   "cell_type": "code",
   "execution_count": 13,
   "metadata": {},
   "outputs": [
    {
     "data": {
      "text/plain": [
       "9996"
      ]
     },
     "execution_count": 13,
     "metadata": {},
     "output_type": "execute_result"
    }
   ],
   "source": [
    "min = (lambda x, y: x if x < y else y)\n",
    "min(101*99, 102*98)"
   ]
  },
  {
   "cell_type": "markdown",
   "metadata": {},
   "source": [
    "### Map, Filter and Reduce Functions\n",
    "Map is a function that works like list comprehensions and for loops. It is used when you need to map or implement functions on various elements at the same time.<br>\n",
    "Map is a utility function which maps a collection to another objects based on certain functionality<br>\n",
    "map(function,iterable object)<br>\n",
    "\n",
    "The function here can be a lambda function or a function object.<br>\n",
    "\n",
    "The iterable object can be a string, list, tuple, set or dictionary.<br>"
   ]
  },
  {
   "cell_type": "code",
   "execution_count": 17,
   "metadata": {},
   "outputs": [
    {
     "data": {
      "text/plain": [
       "'INDIA'"
      ]
     },
     "execution_count": 17,
     "metadata": {},
     "output_type": "execute_result"
    }
   ],
   "source": [
    "countires = [\"India\", \"Italy\", \"Japan\",\"France\"]\n",
    "f = lambda x : x.upper()\n",
    "f(\"India\")"
   ]
  },
  {
   "cell_type": "code",
   "execution_count": 18,
   "metadata": {},
   "outputs": [
    {
     "data": {
      "text/plain": [
       "['INDIA', 'ITALY', 'JAPAN', 'FRANCE']"
      ]
     },
     "execution_count": 18,
     "metadata": {},
     "output_type": "execute_result"
    }
   ],
   "source": [
    "# map function syntax\n",
    "# list(map(function, collection or list))\n",
    "list(map(lambda x : x.upper(), countires))\n"
   ]
  },
  {
   "cell_type": "code",
   "execution_count": 19,
   "metadata": {},
   "outputs": [
    {
     "data": {
      "text/plain": [
       "[4, 16, 25]"
      ]
     },
     "execution_count": 19,
     "metadata": {},
     "output_type": "execute_result"
    }
   ],
   "source": [
    "list1 = [2,4,5]\n",
    "f_square = lambda x: x**2\n",
    "list(map(f_square, list1))\n"
   ]
  },
  {
   "cell_type": "markdown",
   "metadata": {},
   "source": [
    "filter(function,iterable object): 'Filter' is similar to map function, only distinguishing feature being that it requires the function to look for a condition and then returns only those elements from the collection that satisfy the condition.<br>\n",
    "\n",
    " The function object passed to the filter function should always return a boolean value.<br>\n",
    "The iterable object can be a string, list, tuple, set or dictionary.<br>"
   ]
  },
  {
   "cell_type": "code",
   "execution_count": 20,
   "metadata": {},
   "outputs": [
    {
     "data": {
      "text/plain": [
       "[3, 6, 9]"
      ]
     },
     "execution_count": 20,
     "metadata": {},
     "output_type": "execute_result"
    }
   ],
   "source": [
    "my_list1 = [2,3,5,6,8,9]\n",
    "div = lambda x: x % 3 == 0\n",
    "list(filter(div,my_list1))"
   ]
  },
  {
   "cell_type": "markdown",
   "metadata": {},
   "source": [
    "Write a python program to count the students above age 18"
   ]
  },
  {
   "cell_type": "code",
   "execution_count": 23,
   "metadata": {},
   "outputs": [
    {
     "data": {
      "text/plain": [
       "<function __main__.<lambda>(x)>"
      ]
     },
     "execution_count": 23,
     "metadata": {},
     "output_type": "execute_result"
    }
   ],
   "source": [
    "students_data = {1:['Sam', 15] , 2:['Rob',18], 3:['Kyle', 16], 4:['Cornor',19], 5:['Trump',20]}\n",
    "f = (filter(lambda x: x[1] > 18, students_data.values()))\n",
    "dict(f)"
   ]
  },
  {
   "cell_type": "markdown",
   "metadata": {},
   "source": [
    "Using the function Map, count the number of words that start with ‘S’ in input_list."
   ]
  },
  {
   "cell_type": "code",
   "execution_count": 27,
   "metadata": {},
   "outputs": [
    {
     "name": "stdout",
     "output_type": "stream",
     "text": [
      "2\n"
     ]
    }
   ],
   "source": [
    "input_str = input()\n",
    "input_list = ast.literal_eval(input_str)\n",
    "count = sum(map(lambda x: x.startswith('S'), input_list))\n",
    "print(count)\n"
   ]
  },
  {
   "cell_type": "markdown",
   "metadata": {},
   "source": [
    "Create a list ‘name’ consisting of the combination of the first name and the second name from list 1 and 2 respectively. "
   ]
  },
  {
   "cell_type": "code",
   "execution_count": 33,
   "metadata": {},
   "outputs": [
    {
     "name": "stdout",
     "output_type": "stream",
     "text": [
      "['Ankur Narang', 'Avik Sarkar', 'Kiran R', 'Nitin Sareen']\n"
     ]
    }
   ],
   "source": [
    "input_str = input()\n",
    "input_list = ast.literal_eval(input_str)\n",
    "first_name = input_list[0]\n",
    "last_name = input_list[1]\n",
    "name = list(map(lambda x,y: x + \" \" + y, first_name, last_name))\n",
    "print(name)"
   ]
  },
  {
   "cell_type": "markdown",
   "metadata": {},
   "source": [
    "Extract a list of numbers that are multiples of 5 from a list of integers named input_list."
   ]
  },
  {
   "cell_type": "code",
   "execution_count": 36,
   "metadata": {},
   "outputs": [
    {
     "name": "stdout",
     "output_type": "stream",
     "text": [
      "[5, 10, 15, 20, 25, 30, 35, 40, 45, 50]\n"
     ]
    }
   ],
   "source": [
    "input_str = input()\n",
    "input_list = ast.literal_eval(input_str)\n",
    "multiple_5 = lambda x: x % 5 == 0\n",
    "list_answer = list(filter(multiple_5, input_list))\n",
    "print(list_answer)"
   ]
  },
  {
   "cell_type": "markdown",
   "metadata": {},
   "source": [
    "Extract a list of names that start with an ‘s’ and end with a ‘p’ (both 's' and 'p' are lowercase) in input_list"
   ]
  },
  {
   "cell_type": "code",
   "execution_count": 41,
   "metadata": {},
   "outputs": [
    {
     "name": "stdout",
     "output_type": "stream",
     "text": [
      "['soap', 'sharp', 'ship', 'sheep']\n"
     ]
    }
   ],
   "source": [
    "input_str = input()\n",
    "input_list = ast.literal_eval(input_str)\n",
    "sp = list(filter(lambda x: x.startswith('s') and x.endswith('p'), input_list))\n",
    "print(sp)\n"
   ]
  },
  {
   "cell_type": "markdown",
   "metadata": {},
   "source": [
    "Using the Reduce function, concatenate a list of words in input_list, and print the output as a string.\n",
    "\n",
    "If input_list = ['I','Love','Python'], the output should be the string 'I Love Python'."
   ]
  },
  {
   "cell_type": "code",
   "execution_count": 42,
   "metadata": {},
   "outputs": [
    {
     "name": "stdout",
     "output_type": "stream",
     "text": [
      "All you have to fear is fear itself\n"
     ]
    }
   ],
   "source": [
    "\n",
    "input_str = input()\n",
    "input_list = ast.literal_eval(input_str)\n",
    "from functools import reduce\n",
    "concatenated_string = reduce(lambda x, y: x + ' ' + y, input_list)\n",
    "print(concatenated_string)"
   ]
  },
  {
   "cell_type": "markdown",
   "metadata": {},
   "source": [
    "You are given a list of numbers such as input_list = [31, 63, 76, 89]. Find and print the largest number in input_list using the reduce() function."
   ]
  },
  {
   "cell_type": "code",
   "execution_count": null,
   "metadata": {},
   "outputs": [],
   "source": [
    "input_str = input()\n",
    "input_list = ast.literal_eval(input_str)\n",
    "from functools import reduce\n",
    "\n",
    "answer = reduce(lambda x, y: x if x > y else y, input_list)\n",
    "\n",
    "print(answer)"
   ]
  },
  {
   "cell_type": "markdown",
   "metadata": {},
   "source": [
    "Given a list of integers, write a python code to find all the even numbers present in the list.\n",
    "\n"
   ]
  },
  {
   "cell_type": "code",
   "execution_count": 59,
   "metadata": {},
   "outputs": [
    {
     "name": "stdout",
     "output_type": "stream",
     "text": [
      "[500, 2112, 5894, 9062, 600]\n"
     ]
    }
   ],
   "source": [
    "input_str = input()\n",
    "input_list = ast.literal_eval(input_str)\n",
    "# write the code here\n",
    "even_numbers = list(filter(lambda x: x % 2 == 0, input_list))\n",
    "print(even_numbers)"
   ]
  },
  {
   "cell_type": "markdown",
   "metadata": {},
   "source": [
    "Given a list of integers, write a python code to triple all the values in the list."
   ]
  },
  {
   "cell_type": "code",
   "execution_count": 60,
   "metadata": {},
   "outputs": [
    {
     "name": "stdout",
     "output_type": "stream",
     "text": [
      "[15, 21, 66, 291, 162, 186, 231, 69, 219, 183]\n"
     ]
    }
   ],
   "source": [
    "input_str = input()\n",
    "input_list = ast.literal_eval(input_str)\n",
    "# write the code here\n",
    "tripled_values = list(map(lambda x: x * 3, input_list))\n",
    "print(tripled_values)"
   ]
  },
  {
   "cell_type": "markdown",
   "metadata": {},
   "source": [
    "A company stores the names of their employees in a list. They want to encrypt the names so that no one can read them and the data stays safe. One of the steps in encrypting is to reverse each name in the list and convert them to uppercase and your task is to write a Python code to execute the same."
   ]
  },
  {
   "cell_type": "code",
   "execution_count": 61,
   "metadata": {},
   "outputs": [
    {
     "name": "stdout",
     "output_type": "stream",
     "text": [
      "['YAHBA', 'DNIVARA', 'AVLISED', 'NAPRAD']\n"
     ]
    }
   ],
   "source": [
    "input_str = input()\n",
    "input_list = ast.literal_eval(input_str)\n",
    "# write the code here\n",
    "encrypted_names = list(map(lambda x: x[::-1].upper(), input_list))\n",
    "print(encrypted_names)"
   ]
  },
  {
   "cell_type": "markdown",
   "metadata": {},
   "source": [
    "Given is a list consisting of dictionary elements. Each dictionary contains the name of a student as a first item and his/her corresponding rank as the second item. Your task is to write a Python program to print the list (dictionary elements) in a sorted ascending order according to student ranks. In case the rank of two or more students are the same, then sort them in ascending order (alphabetically) according to their names."
   ]
  },
  {
   "cell_type": "code",
   "execution_count": 62,
   "metadata": {},
   "outputs": [
    {
     "name": "stdout",
     "output_type": "stream",
     "text": [
      "[{'name': 'Aravind', 'rank': 19}, {'name': 'Arpit', 'rank': 20}, {'name': 'Manjeet', 'rank': 20}]\n"
     ]
    }
   ],
   "source": [
    "input_str = input()\n",
    "students = ast.literal_eval(input_str)\n",
    "sorted_students = sorted(students, key=lambda x: (x['rank'], x['name']))\n",
    "print(sorted_students)"
   ]
  },
  {
   "cell_type": "code",
   "execution_count": null,
   "metadata": {},
   "outputs": [],
   "source": []
  }
 ],
 "metadata": {
  "kernelspec": {
   "display_name": "base",
   "language": "python",
   "name": "python3"
  },
  "language_info": {
   "codemirror_mode": {
    "name": "ipython",
    "version": 3
   },
   "file_extension": ".py",
   "mimetype": "text/x-python",
   "name": "python",
   "nbconvert_exporter": "python",
   "pygments_lexer": "ipython3",
   "version": "3.11.7"
  }
 },
 "nbformat": 4,
 "nbformat_minor": 2
}
