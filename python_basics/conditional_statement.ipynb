{
 "cells": [
  {
   "cell_type": "markdown",
   "metadata": {},
   "source": [
    "### <B>CONTROLLED STATEMENT<br></B>\n",
    "If statements \"IF\" statements are imperative in python, they help us build programs that could make decisions based on a specific condition "
   ]
  },
  {
   "cell_type": "markdown",
   "metadata": {},
   "source": [
    "Write a code to check if the string in input_str starts with a vowel or not. Print capital YES or NO.\n",
    "\n",
    "\n",
    "\n",
    "For example, if input_str = 'analytics' then, your output should print 'YES'."
   ]
  },
  {
   "cell_type": "markdown",
   "metadata": {},
   "source": [
    "### RELATIONAL OPERATORS\n",
    "Compares the values on either side of the operator and returns boolean values as True or False"
   ]
  },
  {
   "cell_type": "code",
   "execution_count": 13,
   "metadata": {},
   "outputs": [
    {
     "data": {
      "text/plain": [
       "True"
      ]
     },
     "execution_count": 13,
     "metadata": {},
     "output_type": "execute_result"
    }
   ],
   "source": [
    "# double equal operator\n",
    "10 == 10"
   ]
  },
  {
   "cell_type": "code",
   "execution_count": 14,
   "metadata": {},
   "outputs": [
    {
     "data": {
      "text/plain": [
       "False"
      ]
     },
     "execution_count": 14,
     "metadata": {},
     "output_type": "execute_result"
    }
   ],
   "source": [
    "# not equal to \n",
    "10 != 10"
   ]
  },
  {
   "cell_type": "code",
   "execution_count": 15,
   "metadata": {},
   "outputs": [
    {
     "data": {
      "text/plain": [
       "True"
      ]
     },
     "execution_count": 15,
     "metadata": {},
     "output_type": "execute_result"
    }
   ],
   "source": [
    "# greater than or equal to\n",
    "10 >= 10"
   ]
  },
  {
   "cell_type": "markdown",
   "metadata": {},
   "source": [
    "### DECISION MAKING\n",
    "done using if, if-else, if-elif-else"
   ]
  },
  {
   "cell_type": "code",
   "execution_count": 17,
   "metadata": {},
   "outputs": [
    {
     "name": "stdout",
     "output_type": "stream",
     "text": [
      "it is true\n"
     ]
    }
   ],
   "source": [
    "x = 45\n",
    "if x >= 30:\n",
    "    print(\"it is true\")\n",
    "else:\n",
    "    print(\"its false\")"
   ]
  },
  {
   "cell_type": "markdown",
   "metadata": {},
   "source": [
    "### LOGICAL OPERATORS\n",
    "we can use these in situation where there are multiple conditions\n",
    "#### AND <br>\n",
    "#### OR <br>\n",
    "#### NOR <br>\n",
    "#### XOR <br>\n"
   ]
  },
  {
   "cell_type": "code",
   "execution_count": 5,
   "metadata": {},
   "outputs": [
    {
     "name": "stdout",
     "output_type": "stream",
     "text": [
      "NO\n"
     ]
    }
   ],
   "source": [
    "# take a string from the user\n",
    "input_str = input(\"enter your string:\")\n",
    "# create another variable called vowels which has all the vowel letters\n",
    "vowels = \"aeiouAEIOU\"\n",
    "# if the first char of string has vowel in it print yes\n",
    "if input_str[0] in vowels:\n",
    "    print(\"YES\")\n",
    "# else print no\n",
    "else:\n",
    "    print(\"NO\")"
   ]
  },
  {
   "cell_type": "markdown",
   "metadata": {},
   "source": [
    "Nested if else condition"
   ]
  },
  {
   "cell_type": "code",
   "execution_count": 1,
   "metadata": {},
   "outputs": [
    {
     "name": "stdout",
     "output_type": "stream",
     "text": [
      "New Zealand made it to Finals\n"
     ]
    }
   ],
   "source": [
    "world_cups = {2019 : ['England', 'New Zealand'], 2015:[\"Australia\", \"New Zealand\"], 2011 : [\"India\", \"Sri Lanka\"], 2007: [\"Australia\", \"Sri Lanka\"], 2003: [\"Australia\", \"India\"]}\n",
    "\n",
    "year = int(input(\"Enter year to check New Zealand made it to Finals in 20th century : \"))\n",
    "\n",
    "if year in world_cups :\n",
    "    if \"New Zealand\" in world_cups[year] :\n",
    "        print(\"New Zealand made it to Finals\")\n",
    "    else:\n",
    "        print(\"New Zealand could not make it to Finals\")\n",
    "        \n",
    "else:\n",
    "    print(\"World cup wasnt played in\", year)"
   ]
  },
  {
   "cell_type": "markdown",
   "metadata": {},
   "source": [
    " ### <B> Loops and Iterations </B>\n",
    " repeated execution of set of statements in python is called iteration <br>\n",
    " iteration is implemented using <B>for </B> and <B>while </B> loops <br>\n",
    "<B>while </B> is used when as long as the condition is satisfied it keeps running the loop <br>\n"
   ]
  },
  {
   "cell_type": "code",
   "execution_count": 3,
   "metadata": {},
   "outputs": [
    {
     "name": "stdout",
     "output_type": "stream",
     "text": [
      "Pin validation successful.\n"
     ]
    }
   ],
   "source": [
    "# while condition\n",
    "pin = input(\"Enter your four digit pin: \")\n",
    "while pin != '1234':                           #Pre-set pin is 1234\n",
    "    pin = input('Invalid input, please try again: ')  \n",
    "print(\"Pin validation successful.\")"
   ]
  },
  {
   "cell_type": "code",
   "execution_count": 5,
   "metadata": {},
   "outputs": [
    {
     "name": "stdout",
     "output_type": "stream",
     "text": [
      "Pin validation successful.\n"
     ]
    }
   ],
   "source": [
    "# if condition\n",
    "import sys    #required for exiting the code and displaying an error\n",
    "\n",
    "pin = input(\"Enter your four digit pin: \")\n",
    "attempt_count = 1\n",
    "while pin != '1234':\n",
    "    if attempt_count >= 3:\n",
    "     sys.exit(\"Too many invalid attempts\")   #error code\n",
    "    pin = input('Invalid input, please try again: ')  \n",
    "    attempt_count += 1\n",
    "print(\"Pin validation successful.\")"
   ]
  },
  {
   "cell_type": "code",
   "execution_count": 6,
   "metadata": {},
   "outputs": [
    {
     "name": "stdout",
     "output_type": "stream",
     "text": [
      "1\n",
      "2\n",
      "3\n",
      "4\n"
     ]
    }
   ],
   "source": [
    "# iterate over list of integers\n",
    "i = [1,2,3,4]\n",
    "for var in i:\n",
    "    print(var)"
   ]
  },
  {
   "cell_type": "code",
   "execution_count": 7,
   "metadata": {},
   "outputs": [
    {
     "name": "stdout",
     "output_type": "stream",
     "text": [
      "New York"
     ]
    }
   ],
   "source": [
    "# iterating over a string, modifying print using end\n",
    "string = \"New York\"\n",
    "for char in string:\n",
    "    print(char, end = \"\")"
   ]
  },
  {
   "cell_type": "code",
   "execution_count": 10,
   "metadata": {},
   "outputs": [
    {
     "name": "stdout",
     "output_type": "stream",
     "text": [
      "1 ['sam', 24]\n",
      "2 ['medini', 25]\n",
      "3 ['chetan', 27]\n"
     ]
    }
   ],
   "source": [
    "# iterating over a dictonary as dict is iteratable \n",
    "dictonary1 = {\n",
    "    1: [\"sam\", 24],\n",
    "    2 : [\"medini\", 25],\n",
    "    3 : [\"chetan\", 27]\n",
    "}\n",
    "for key in dictonary1.keys():\n",
    "    print(key)    \n",
    "for key, val in dictonary1.items():\n",
    "    print(key, val)\n"
   ]
  },
  {
   "cell_type": "code",
   "execution_count": 15,
   "metadata": {},
   "outputs": [
    {
     "name": "stdout",
     "output_type": "stream",
     "text": [
      "*\n",
      "*\n",
      "*\n",
      "*\n"
     ]
    }
   ],
   "source": [
    "# we can use range to iterate over a range of items\n",
    "for i in range (1, 5):\n",
    "    print(\"*\")"
   ]
  },
  {
   "cell_type": "markdown",
   "metadata": {},
   "source": [
    "example: print prime numbers from 1 to 20"
   ]
  },
  {
   "cell_type": "code",
   "execution_count": 20,
   "metadata": {},
   "outputs": [
    {
     "name": "stdout",
     "output_type": "stream",
     "text": [
      "1 2 3 5 7 11 13 17 19 "
     ]
    }
   ],
   "source": [
    "\n",
    "for number in range(1, 21):\n",
    "    is_prime = True\n",
    "    for i in range(2, int(number ** 0.5) + 1):\n",
    "        if number % i == 0:\n",
    "            is_prime = False\n",
    "            break\n",
    "    if is_prime:\n",
    "        print(number, end=\" \")"
   ]
  },
  {
   "cell_type": "markdown",
   "metadata": {},
   "source": [
    "You are given a list of string elements and asked to return a list which contains each element of the string in title case or in other words first character of the string would be in upper case and remaining all characters in lower case\n",
    "\n",
    "\n",
    "\n",
    "Sample Input:\n",
    "\n",
    "\n",
    "\n",
    "['VARMA', 'raj', 'Gupta', 'SaNdeeP']\n",
    "\n",
    "\n",
    "\n",
    "\n",
    "\n",
    "\n",
    "\n",
    "Sample Output\n",
    "\n",
    "\n",
    "\n",
    "['Varma', 'Raj', 'Gupta', 'Sandeep']"
   ]
  },
  {
   "cell_type": "code",
   "execution_count": 23,
   "metadata": {},
   "outputs": [
    {
     "name": "stdout",
     "output_type": "stream",
     "text": [
      "['Varma', 'Raj', 'Gupta', 'Sandeep']\n"
     ]
    }
   ],
   "source": [
    "import ast\n",
    "input_str = input(\"enter your list\")\n",
    "input_list = ast.literal_eval(input_str)\n",
    "# crate an empty list to add the final list in the form of title\n",
    "title_list = []\n",
    "# for each element from the input list\n",
    "for char in input_list:\n",
    "    # make the char in the form of title using title () function and append that to the title list\n",
    "    title_list.append(char.title())\n",
    "    #print the title list\n",
    "print(title_list)\n"
   ]
  },
  {
   "cell_type": "code",
   "execution_count": null,
   "metadata": {},
   "outputs": [],
   "source": []
  }
 ],
 "metadata": {
  "kernelspec": {
   "display_name": "base",
   "language": "python",
   "name": "python3"
  },
  "language_info": {
   "codemirror_mode": {
    "name": "ipython",
    "version": 3
   },
   "file_extension": ".py",
   "mimetype": "text/x-python",
   "name": "python",
   "nbconvert_exporter": "python",
   "pygments_lexer": "ipython3",
   "version": "3.11.7"
  }
 },
 "nbformat": 4,
 "nbformat_minor": 2
}
