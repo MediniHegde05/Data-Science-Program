{
 "cells": [
  {
   "cell_type": "markdown",
   "metadata": {},
   "source": [
    "Write a code to check if the string in input_str starts with a vowel or not. Print capital YES or NO.\n",
    "\n",
    "\n",
    "\n",
    "For example, if input_str = 'analytics' then, your output should print 'YES'."
   ]
  },
  {
   "cell_type": "code",
   "execution_count": 5,
   "metadata": {},
   "outputs": [
    {
     "name": "stdout",
     "output_type": "stream",
     "text": [
      "NO\n"
     ]
    }
   ],
   "source": [
    "# take a string from the user\n",
    "input_str = input(\"enter your string:\")\n",
    "# create another variable called vowels which has all the vowel letters\n",
    "vowels = \"aeiouAEIOU\"\n",
    "# if the first char of string has vowel in it print yes\n",
    "if input_str[0] in vowels:\n",
    "    print(\"YES\")\n",
    "# else print no\n",
    "else:\n",
    "    print(\"NO\")"
   ]
  },
  {
   "cell_type": "code",
   "execution_count": 3,
   "metadata": {},
   "outputs": [
    {
     "name": "stdout",
     "output_type": "stream",
     "text": [
      "a\n"
     ]
    }
   ],
   "source": []
  },
  {
   "cell_type": "code",
   "execution_count": null,
   "metadata": {},
   "outputs": [],
   "source": []
  }
 ],
 "metadata": {
  "kernelspec": {
   "display_name": "base",
   "language": "python",
   "name": "python3"
  },
  "language_info": {
   "codemirror_mode": {
    "name": "ipython",
    "version": 3
   },
   "file_extension": ".py",
   "mimetype": "text/x-python",
   "name": "python",
   "nbconvert_exporter": "python",
   "pygments_lexer": "ipython3",
   "version": "3.11.7"
  }
 },
 "nbformat": 4,
 "nbformat_minor": 2
}
