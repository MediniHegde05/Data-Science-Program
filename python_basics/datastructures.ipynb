{
 "cells": [
  {
   "cell_type": "markdown",
   "metadata": {},
   "source": [
    "### DATA STRUCTURES:\n",
    "<br> A data structure is nothing but a collection of data values.<br>"
   ]
  },
  {
   "cell_type": "code",
   "execution_count": 2,
   "metadata": {},
   "outputs": [
    {
     "name": "stdout",
     "output_type": "stream",
     "text": [
      "medini 987\n"
     ]
    }
   ],
   "source": [
    "name = input(\"enter your name\")\n",
    "number = input(\"your number\")\n",
    "print(name, number)"
   ]
  },
  {
   "cell_type": "code",
   "execution_count": 7,
   "metadata": {},
   "outputs": [
    {
     "name": "stdout",
     "output_type": "stream",
     "text": [
      "medini 987 932\n"
     ]
    }
   ],
   "source": [
    "from random import seed\n",
    "#random is python library and randint is a function that generates random numbers in the given range\n",
    "from random import randint\n",
    "value = randint(100,999)\n",
    "print(name,number,value)"
   ]
  },
  {
   "cell_type": "code",
   "execution_count": 5,
   "metadata": {},
   "outputs": [
    {
     "name": "stdout",
     "output_type": "stream",
     "text": [
      "['medini', '987', 784]\n"
     ]
    }
   ],
   "source": [
    "#convert the above to list which can store any data type it can be string integer \n",
    "list1 = [name, number, value]\n",
    "print(list1)"
   ]
  },
  {
   "cell_type": "markdown",
   "metadata": {},
   "source": [
    "## Lists\n",
    "<br> lists are an ordered sequence of mixed data types<br>\n",
    "<br> Lists are mutable<br>\n",
    "<br> Lists are written as comma separated elements which square brackets <br>"
   ]
  },
  {
   "cell_type": "code",
   "execution_count": 242,
   "metadata": {},
   "outputs": [
    {
     "data": {
      "text/plain": [
       "['India', 5, 21, 'Mumbai']"
      ]
     },
     "execution_count": 242,
     "metadata": {},
     "output_type": "execute_result"
    }
   ],
   "source": [
    "# Introduction\n",
    "L = [\"India\", 5, 21, \"Mumbai\"]\n",
    "L"
   ]
  },
  {
   "cell_type": "code",
   "execution_count": 10,
   "metadata": {},
   "outputs": [
    {
     "name": "stdout",
     "output_type": "stream",
     "text": [
      "['India', 'Mumbai', [1999, 5], 10]\n"
     ]
    }
   ],
   "source": [
    "# Nested List is a list which will have one list inside the another list,\n",
    "# in this below list there are four components 2 strings, another list and an integer\n",
    "L = [\"India\", \"Mumbai\", [1999, 5], 10]\n",
    "print(L)"
   ]
  },
  {
   "cell_type": "code",
   "execution_count": 129,
   "metadata": {},
   "outputs": [
    {
     "data": {
      "text/plain": [
       "'India'"
      ]
     },
     "execution_count": 129,
     "metadata": {},
     "output_type": "execute_result"
    }
   ],
   "source": [
    "# Indexing to access components in a list\n",
    "L = [\"India\", \"Mumbai\", [1999, 5], 10]\n",
    "L[0]"
   ]
  },
  {
   "cell_type": "code",
   "execution_count": 13,
   "metadata": {},
   "outputs": [
    {
     "data": {
      "text/plain": [
       "[1999, 5]"
      ]
     },
     "execution_count": 13,
     "metadata": {},
     "output_type": "execute_result"
    }
   ],
   "source": [
    "L[-2]"
   ]
  },
  {
   "cell_type": "code",
   "execution_count": 14,
   "metadata": {},
   "outputs": [
    {
     "data": {
      "text/plain": [
       "1999"
      ]
     },
     "execution_count": 14,
     "metadata": {},
     "output_type": "execute_result"
    }
   ],
   "source": [
    "L[-2][0] # This will give the first component of the second list which is inside the list at -2 position"
   ]
  },
  {
   "cell_type": "code",
   "execution_count": 22,
   "metadata": {},
   "outputs": [
    {
     "name": "stdout",
     "output_type": "stream",
     "text": [
      "['Biology', [1999, 5]]\n"
     ]
    }
   ],
   "source": [
    "# Slicing\n",
    "List2 = [\"Chemistry\", \"Biology\", [1999, 5], 10]\n",
    "sliced = List2[1:3]\n",
    "print(sliced)"
   ]
  },
  {
   "cell_type": "code",
   "execution_count": 24,
   "metadata": {},
   "outputs": [
    {
     "name": "stdout",
     "output_type": "stream",
     "text": [
      "False\n"
     ]
    }
   ],
   "source": [
    "# Membership in list\n",
    "L1 = [1,2,3,4]\n",
    "print(5 in L1)"
   ]
  },
  {
   "cell_type": "code",
   "execution_count": 25,
   "metadata": {},
   "outputs": [
    {
     "name": "stdout",
     "output_type": "stream",
     "text": [
      "['Chemistry', 'Biology', [1999, 5], 10, 5, 8]\n"
     ]
    }
   ],
   "source": [
    "# list concatenation\n",
    "newL = List2 + [5,8]\n",
    "print(newL)"
   ]
  },
  {
   "cell_type": "code",
   "execution_count": 29,
   "metadata": {},
   "outputs": [
    {
     "name": "stdout",
     "output_type": "stream",
     "text": [
      "['Chemistry', 'Physics', [1999, 5], 10]\n"
     ]
    }
   ],
   "source": [
    "# Replace biology with physics mutable list\n",
    "List2 = [\"Chemistry\", \"Biology\", [1999, 5], 10]\n",
    "List2[1] = \"Physics\"\n",
    "print(List2)"
   ]
  },
  {
   "cell_type": "code",
   "execution_count": 36,
   "metadata": {},
   "outputs": [
    {
     "name": "stdout",
     "output_type": "stream",
     "text": [
      "[['Physics', 'Biology', [1999, 5], 10], 5, 8]\n"
     ]
    }
   ],
   "source": [
    "#extend: if any ELEMENTS to be added to the list without creating a new list like previously done we can use function extend()\n",
    "List3 = [[\"Physics\", \"Biology\", [1999, 5], 10]]\n",
    "List3.extend([5,8])\n",
    "print(List3)"
   ]
  },
  {
   "cell_type": "code",
   "execution_count": 42,
   "metadata": {},
   "outputs": [
    {
     "name": "stdout",
     "output_type": "stream",
     "text": [
      "['Physics', 'Biology', [1999, 5], 10, [5, 8]]\n"
     ]
    }
   ],
   "source": [
    "# Append()is used to add new list to list but append will take the whole component as a list and as a whole elements and adds that LIST to the main list\n",
    "List3 = [\"Physics\", \"Biology\", [1999, 5], 10]\n",
    "List3.append([5,8])\n",
    "print(List3)"
   ]
  },
  {
   "cell_type": "code",
   "execution_count": 44,
   "metadata": {},
   "outputs": [
    {
     "data": {
      "text/plain": [
       "[[1999, 5], 10, [5, 8]]"
      ]
     },
     "execution_count": 44,
     "metadata": {},
     "output_type": "execute_result"
    }
   ],
   "source": [
    "# del command will delete an element from the list using index of that element\n",
    "List3 = ['Physics', 'Biology', [1999, 5], 10, [5, 8]]\n",
    "del List3[0:2] # first element index and the second element index to be deleteed\n",
    "List3"
   ]
  },
  {
   "cell_type": "code",
   "execution_count": 45,
   "metadata": {},
   "outputs": [
    {
     "name": "stdout",
     "output_type": "stream",
     "text": [
      "['Physics', 'Biology', [1999, 5], 10]\n"
     ]
    }
   ],
   "source": [
    "# pop() will pop the last element out and gives the remaining list\n",
    "List1 = ['Physics', 'Biology', [1999, 5], 10, [5, 8]]\n",
    "List1.pop()\n",
    "print(List1)"
   ]
  },
  {
   "cell_type": "code",
   "execution_count": 47,
   "metadata": {},
   "outputs": [
    {
     "name": "stdout",
     "output_type": "stream",
     "text": [
      "['Physics', [1999, 5], 10, [5, 8]]\n"
     ]
    }
   ],
   "source": [
    "#remove() remove one element of the list by name and not the index\n",
    "List1 = ['Physics', 'Biology', [1999, 5], 10, [5, 8]]\n",
    "List1.remove('Biology')\n",
    "print(List1)"
   ]
  },
  {
   "cell_type": "code",
   "execution_count": 48,
   "metadata": {},
   "outputs": [
    {
     "name": "stdout",
     "output_type": "stream",
     "text": [
      "[1, 2, 3, 32, 41]\n"
     ]
    }
   ],
   "source": [
    "# Sorting list\n",
    "# sort() will arrange the elements in the list in ascending order\n",
    "l = [32,41,3,2,1]\n",
    "l.sort()\n",
    "print(l)"
   ]
  },
  {
   "cell_type": "code",
   "execution_count": 49,
   "metadata": {},
   "outputs": [
    {
     "name": "stdout",
     "output_type": "stream",
     "text": [
      "[41, 32, 3, 2, 1]\n"
     ]
    }
   ],
   "source": [
    "# if you need to sort in descending order\n",
    "l = [32,41,3,2,1]\n",
    "l.sort(reverse=True)\n",
    "print(l)"
   ]
  },
  {
   "cell_type": "markdown",
   "metadata": {},
   "source": [
    "<B> Difference between sort and sorted<B>"
   ]
  },
  {
   "cell_type": "code",
   "execution_count": 51,
   "metadata": {},
   "outputs": [
    {
     "name": "stdout",
     "output_type": "stream",
     "text": [
      "None\n"
     ]
    }
   ],
   "source": [
    "A = [\"Apple\", \"Orange\", \" Mango\"]\n",
    "B = A.sort()\n",
    "print(A)\n",
    "print(B)"
   ]
  },
  {
   "cell_type": "code",
   "execution_count": 53,
   "metadata": {},
   "outputs": [
    {
     "name": "stdout",
     "output_type": "stream",
     "text": [
      "['Apple', 'Orange', 'Mango']\n",
      "['Apple', 'Mango', 'Orange']\n"
     ]
    }
   ],
   "source": [
    "# sorted(listvariable) will keep the list as it is but if you want the list to be sorted in place or starting then Listname.sort() is used\n",
    "A = [\"Apple\", \"Orange\", \"Mango\"]\n",
    "C = sorted(A)\n",
    "print(A)\n",
    "print(C)\n"
   ]
  },
  {
   "cell_type": "markdown",
   "metadata": {},
   "source": [
    "## PRACTICE EXERCISE ON LIST"
   ]
  },
  {
   "cell_type": "code",
   "execution_count": 55,
   "metadata": {},
   "outputs": [
    {
     "name": "stdout",
     "output_type": "stream",
     "text": [
      "2\n"
     ]
    }
   ],
   "source": [
    "list_1 = [2, 33, 222, 14, 25]\n",
    "sliced =list_1[-5]\n",
    "print(sliced)"
   ]
  },
  {
   "cell_type": "code",
   "execution_count": 56,
   "metadata": {},
   "outputs": [
    {
     "name": "stdout",
     "output_type": "stream",
     "text": [
      "[]\n"
     ]
    }
   ],
   "source": [
    "word = ['1','2','3','4']\n",
    "word[ : ] = [ ] \n",
    "print(word)"
   ]
  },
  {
   "cell_type": "code",
   "execution_count": 57,
   "metadata": {},
   "outputs": [
    {
     "name": "stdout",
     "output_type": "stream",
     "text": [
      "['five', 'four', 'one', 'six', 'three', 'two']\n",
      "['one', 'two', 'three', 'four', 'five', 'six']\n"
     ]
    }
   ],
   "source": [
    "L = ['one','two','three', 'four', 'five', 'six']\n",
    "print(sorted(L))\n",
    "print (L)"
   ]
  },
  {
   "cell_type": "markdown",
   "metadata": {},
   "source": [
    "Remove SPSS from input_list=['SAS', 'R', 'PYTHON', 'SPSS'] and add 'SPARK' in its place."
   ]
  },
  {
   "cell_type": "code",
   "execution_count": 58,
   "metadata": {},
   "outputs": [
    {
     "name": "stdout",
     "output_type": "stream",
     "text": [
      "['SAS', 'R', 'PYTHON', 'SPARK']\n"
     ]
    }
   ],
   "source": [
    "\n",
    "input_list=['SAS', 'R', 'PYTHON', 'SPSS']\n",
    "input_list[3] = ('SPARK')\n",
    "print(input_list)"
   ]
  },
  {
   "cell_type": "markdown",
   "metadata": {},
   "source": [
    "Convert a list ['Pythons syntax is easy to learn', 'Pythons syntax is very clear'] to a string using ‘&’. The sample output of this string will be:<br>\n",
    "Pythons syntax <B>is</B> easy to learn & Pythons syntax <B>is</B> very clear\n"
   ]
  },
  {
   "cell_type": "code",
   "execution_count": 83,
   "metadata": {},
   "outputs": [
    {
     "name": "stdout",
     "output_type": "stream",
     "text": [
      "Pythons syntax is easy to learn & Pythons syntax is very clear\n"
     ]
    }
   ],
   "source": [
    "# take the list from the user\n",
    "list1 = ['Pythons syntax is easy to learn', 'Pythons syntax is very clear'] \n",
    "# create a new variable to join & with .join function for the sentence present in the list\n",
    "string_1 = ' & '.join(sentence.replace(' is ', ' is ') for sentence in list1)\n",
    "# Print the result\n",
    "print(string_1)\n"
   ]
  },
  {
   "cell_type": "markdown",
   "metadata": {},
   "source": [
    "Split the string input_str = 'Kumar_Ravi_003' to the person's second name, first name and unique customer code. In this example, second_name= 'Kumar', first_name= 'Ravi', customer_code = '003'.\n",
    "\n",
    "\n",
    "\n",
    "A sample output of the input 'Kumar_Ravi_003' is:"
   ]
  },
  {
   "cell_type": "markdown",
   "metadata": {},
   "source": [
    "Ravi<br>\n",
    "Kumar<br>\n",
    "003<br>"
   ]
  },
  {
   "cell_type": "code",
   "execution_count": 99,
   "metadata": {},
   "outputs": [
    {
     "name": "stdout",
     "output_type": "stream",
     "text": [
      "Ravi\n",
      "Kumar\n",
      "003\n"
     ]
    }
   ],
   "source": [
    "#take an input string from the user\n",
    "input_str = 'Kumar_Ravi_003'\n",
    "# create a new variable to create the list of that string using split() at a specific delimiter\n",
    "list1 = input_str.split(\"_\")\n",
    "# sort the list in descending order\n",
    "list1.sort(reverse=True)\n",
    "# assign the elements in the list using indexing of that element\n",
    "first_name = list1[0]\n",
    "second_name = list1[1]\n",
    "customer_code = list1[2]\n",
    "# print the elements in the order expected\n",
    "print(first_name)\n",
    "print(second_name)\n",
    "print(customer_code)"
   ]
  },
  {
   "cell_type": "markdown",
   "metadata": {},
   "source": [
    "## Tuples<br>\n",
    "Tuples are immutable<br>\n",
    "Tuples are written as comma separated elements within parenthesis<br>\n",
    "example It is used to store data such as employee information, which is not allowed to be changed."
   ]
  },
  {
   "cell_type": "code",
   "execution_count": 102,
   "metadata": {},
   "outputs": [
    {
     "name": "stdout",
     "output_type": "stream",
     "text": [
      "('disco', 12, 4.6)\n"
     ]
    },
    {
     "data": {
      "text/plain": [
       "tuple"
      ]
     },
     "execution_count": 102,
     "metadata": {},
     "output_type": "execute_result"
    }
   ],
   "source": [
    "t = (\"disco\", 12, 4.6)\n",
    "print(t)\n",
    "type(t)"
   ]
  },
  {
   "cell_type": "markdown",
   "metadata": {},
   "source": [
    "<B> Tuples can be defined without parentesis"
   ]
  },
  {
   "cell_type": "code",
   "execution_count": 103,
   "metadata": {},
   "outputs": [
    {
     "name": "stdout",
     "output_type": "stream",
     "text": [
      "(1, 2, 'medini')\n"
     ]
    }
   ],
   "source": [
    "sample_tuples = 1,2, \"medini\"\n",
    "print(sample_tuples)"
   ]
  },
  {
   "cell_type": "code",
   "execution_count": 104,
   "metadata": {},
   "outputs": [
    {
     "name": "stdout",
     "output_type": "stream",
     "text": [
      "(1,)\n"
     ]
    }
   ],
   "source": [
    "# single value tuple will have coma even if only single value is there\n",
    "single_value_tuple = 1,\n",
    "print(single_value_tuple)"
   ]
  },
  {
   "cell_type": "code",
   "execution_count": 106,
   "metadata": {},
   "outputs": [
    {
     "name": "stdout",
     "output_type": "stream",
     "text": [
      "1\n"
     ]
    }
   ],
   "source": [
    "not_single_value_tuple = 1\n",
    "print(not_single_value_tuple) # this is not tuple as it does not have comma it is an interger"
   ]
  },
  {
   "cell_type": "markdown",
   "metadata": {},
   "source": [
    "## Indexing in tuple"
   ]
  },
  {
   "cell_type": "code",
   "execution_count": 109,
   "metadata": {},
   "outputs": [
    {
     "data": {
      "text/plain": [
       "5"
      ]
     },
     "execution_count": 109,
     "metadata": {},
     "output_type": "execute_result"
    }
   ],
   "source": [
    "tup = (\"Medini\", 5, \"Python\")\n",
    "tup[-2]"
   ]
  },
  {
   "cell_type": "markdown",
   "metadata": {},
   "source": [
    "## Slicing"
   ]
  },
  {
   "cell_type": "code",
   "execution_count": 112,
   "metadata": {},
   "outputs": [
    {
     "data": {
      "text/plain": [
       "('Medini', 5, 'Python')"
      ]
     },
     "execution_count": 112,
     "metadata": {},
     "output_type": "execute_result"
    }
   ],
   "source": [
    "tup = (\"Medini\", 5, \"Python\", 2, 4, 1)\n",
    "tup[0:3]"
   ]
  },
  {
   "cell_type": "code",
   "execution_count": 113,
   "metadata": {},
   "outputs": [
    {
     "data": {
      "text/plain": [
       "6"
      ]
     },
     "execution_count": 113,
     "metadata": {},
     "output_type": "execute_result"
    }
   ],
   "source": [
    "# we can use len() function to get the length of the tuple and same goes to list as well\n",
    "tup = (\"Medini\", 5, \"Python\", 2, 4, 1)\n",
    "len(tup)"
   ]
  },
  {
   "cell_type": "markdown",
   "metadata": {},
   "source": [
    "### concatenation of tuple"
   ]
  },
  {
   "cell_type": "code",
   "execution_count": 116,
   "metadata": {},
   "outputs": [
    {
     "name": "stdout",
     "output_type": "stream",
     "text": [
      "('This', 'is', 'session', 2, 'On', 'Tuples')\n"
     ]
    }
   ],
   "source": [
    "tuple1 = (\"This\", \"is\", \"session\", 2)\n",
    "tup2 = (\"On\", \"Tuples\")\n",
    "# concatenating by + operator\n",
    "print(tuple1 + tup2)"
   ]
  },
  {
   "cell_type": "markdown",
   "metadata": {},
   "source": [
    "### sum() - min() - max()"
   ]
  },
  {
   "cell_type": "code",
   "execution_count": 117,
   "metadata": {},
   "outputs": [
    {
     "data": {
      "text/plain": [
       "-1"
      ]
     },
     "execution_count": 117,
     "metadata": {},
     "output_type": "execute_result"
    }
   ],
   "source": [
    "t = (2, 4, 5, -1)\n",
    "min(t)"
   ]
  },
  {
   "cell_type": "code",
   "execution_count": 118,
   "metadata": {},
   "outputs": [
    {
     "data": {
      "text/plain": [
       "5"
      ]
     },
     "execution_count": 118,
     "metadata": {},
     "output_type": "execute_result"
    }
   ],
   "source": [
    "max(t)"
   ]
  },
  {
   "cell_type": "code",
   "execution_count": 119,
   "metadata": {},
   "outputs": [
    {
     "data": {
      "text/plain": [
       "10"
      ]
     },
     "execution_count": 119,
     "metadata": {},
     "output_type": "execute_result"
    }
   ],
   "source": [
    "sum(t)"
   ]
  },
  {
   "cell_type": "code",
   "execution_count": 122,
   "metadata": {},
   "outputs": [
    {
     "data": {
      "text/plain": [
       "'s'"
      ]
     },
     "execution_count": 122,
     "metadata": {},
     "output_type": "execute_result"
    }
   ],
   "source": [
    "t = (\"disco\", 12, 4.5)\n",
    "t[0][2]"
   ]
  },
  {
   "cell_type": "markdown",
   "metadata": {},
   "source": [
    "### Lists are immutable meaning you cannot change the elements already in a tuple"
   ]
  },
  {
   "cell_type": "code",
   "execution_count": 130,
   "metadata": {},
   "outputs": [
    {
     "ename": "TypeError",
     "evalue": "'tuple' object does not support item assignment",
     "output_type": "error",
     "traceback": [
      "\u001b[1;31m---------------------------------------------------------------------------\u001b[0m",
      "\u001b[1;31mTypeError\u001b[0m                                 Traceback (most recent call last)",
      "Cell \u001b[1;32mIn[130], line 2\u001b[0m\n\u001b[0;32m      1\u001b[0m tup3 \u001b[38;5;241m=\u001b[39m (\u001b[38;5;124m\"\u001b[39m\u001b[38;5;124mPython\u001b[39m\u001b[38;5;124m\"\u001b[39m, \u001b[38;5;241m12\u001b[39m, \u001b[38;5;241m4.5\u001b[39m)\n\u001b[1;32m----> 2\u001b[0m tup3[\u001b[38;5;241m1\u001b[39m] \u001b[38;5;241m=\u001b[39m \u001b[38;5;241m13\u001b[39m\n",
      "\u001b[1;31mTypeError\u001b[0m: 'tuple' object does not support item assignment"
     ]
    }
   ],
   "source": [
    "tup3 = (\"Python\", 12, 4.5)\n",
    "tup3[1] = 13"
   ]
  },
  {
   "cell_type": "code",
   "execution_count": 134,
   "metadata": {},
   "outputs": [
    {
     "name": "stdout",
     "output_type": "stream",
     "text": [
      "('Python', 'New element', 4.5, 'Medini', 5)\n"
     ]
    }
   ],
   "source": [
    "# instead we can slice and then concatenate the element we would like to add without\n",
    "tup3 = (\"Python\", 12, 4.5,\"Medini\", 5)\n",
    "new_tup = tup3[0:1] + (\"New element\",) + tup3[2:5]\n",
    "print(new_tup)"
   ]
  },
  {
   "cell_type": "markdown",
   "metadata": {},
   "source": [
    "### Sorting tuple"
   ]
  },
  {
   "cell_type": "code",
   "execution_count": 193,
   "metadata": {},
   "outputs": [
    {
     "name": "stdout",
     "output_type": "stream",
     "text": [
      "[-1, 2, 3, 5, 10]\n"
     ]
    }
   ],
   "source": [
    "# we can only use sorted and not sort as it creates a new list in list, but not for tuples as tuples are immutable\n",
    "# when we use sorted() it returns us list but if we want it as tuple we need to use tuple()\n",
    "t = (2,3,5,10,-1)\n",
    "x = sorted(t)\n",
    "print(x)"
   ]
  },
  {
   "cell_type": "markdown",
   "metadata": {},
   "source": [
    "### Nested tuple"
   ]
  },
  {
   "cell_type": "code",
   "execution_count": 150,
   "metadata": {},
   "outputs": [
    {
     "data": {
      "text/plain": [
       "(1, 5, 'Disco', ('Python', 'Java'))"
      ]
     },
     "execution_count": 150,
     "metadata": {},
     "output_type": "execute_result"
    }
   ],
   "source": [
    "nested_t = (1, 5, \"Disco\", (\"Python\", \"Java\"))\n",
    "nested_t"
   ]
  },
  {
   "cell_type": "code",
   "execution_count": 151,
   "metadata": {},
   "outputs": [
    {
     "data": {
      "text/plain": [
       "'Java'"
      ]
     },
     "execution_count": 151,
     "metadata": {},
     "output_type": "execute_result"
    }
   ],
   "source": [
    "nested_t[3][1]"
   ]
  },
  {
   "cell_type": "markdown",
   "metadata": {},
   "source": [
    "### Packing and unpacking in tuple"
   ]
  },
  {
   "cell_type": "code",
   "execution_count": 153,
   "metadata": {},
   "outputs": [
    {
     "data": {
      "text/plain": [
       "3"
      ]
     },
     "execution_count": 153,
     "metadata": {},
     "output_type": "execute_result"
    }
   ],
   "source": [
    "# when its just normal tuple its packing and is packed\n",
    "pack_tuple = (1, 2, 3, 4)\n",
    "(a, b, c, d) = pack_tuple # unpacking assigning 4 elements for the same tuple and when 3rd element is printed it prints the original tuple element\n",
    "c"
   ]
  },
  {
   "cell_type": "code",
   "execution_count": null,
   "metadata": {},
   "outputs": [],
   "source": [
    "pack_tuple = (1, 2, 3, 4)\n",
    "(a, b, c, ) = pack_tuple # this will throw an error aas there is no 4 elements in the unpacked tuple\n",
    "c"
   ]
  },
  {
   "cell_type": "markdown",
   "metadata": {},
   "source": [
    "### dir() - to view attributes or methods of an object"
   ]
  },
  {
   "cell_type": "code",
   "execution_count": 156,
   "metadata": {},
   "outputs": [
    {
     "name": "stdout",
     "output_type": "stream",
     "text": [
      "['__add__', '__class__', '__class_getitem__', '__contains__', '__delattr__', '__dir__', '__doc__', '__eq__', '__format__', '__ge__', '__getattribute__', '__getitem__', '__getnewargs__', '__getstate__', '__gt__', '__hash__', '__init__', '__init_subclass__', '__iter__', '__le__', '__len__', '__lt__', '__mul__', '__ne__', '__new__', '__reduce__', '__reduce_ex__', '__repr__', '__rmul__', '__setattr__', '__sizeof__', '__str__', '__subclasshook__', 'count', 'index']\n"
     ]
    }
   ],
   "source": [
    "t = ()\n",
    "print(dir(t)) # this will give all the methods we can apply for this tuple"
   ]
  },
  {
   "cell_type": "markdown",
   "metadata": {},
   "source": [
    "### EXERCISE ON TUPLES"
   ]
  },
  {
   "cell_type": "markdown",
   "metadata": {},
   "source": [
    "Add the element ‘Python’ to a tuple input_tuple = ('Monty Python', 'British', 1969)."
   ]
  },
  {
   "cell_type": "code",
   "execution_count": 164,
   "metadata": {},
   "outputs": [
    {
     "name": "stdout",
     "output_type": "stream",
     "text": [
      "('Monty Python', 'British', 1969, 'Python')\n"
     ]
    }
   ],
   "source": [
    "input_tuple = ('Monty Python', 'British', 1969)\n",
    "new_tuple = input_tuple[0:3] + (\"Python\",)\n",
    "print(new_tuple)"
   ]
  },
  {
   "cell_type": "markdown",
   "metadata": {},
   "source": [
    "##  SETS <br>\n",
    "Sets are a type of collection like tuples list and can store mixed data types and are mutable <br>\n",
    "Sets are enclosed within curly barackets <br>\n",
    "Sets are unordered and are called as fast search unlike tuples and lists are not fast search<br>\n",
    "Sets do not allow duplicates<br>"
   ]
  },
  {
   "cell_type": "code",
   "execution_count": 171,
   "metadata": {},
   "outputs": [
    {
     "name": "stdout",
     "output_type": "stream",
     "text": [
      "{1, 2, 3, 4, 5}\n"
     ]
    }
   ],
   "source": [
    "l = [1,3,2,4,5,5,4]\n",
    "set_l = set(l)\n",
    "print(set_l) # this removes duplicates and it is sorted but the order does not match which is unordered \n",
    "#sets does not allow indexing\n"
   ]
  },
  {
   "cell_type": "markdown",
   "metadata": {},
   "source": [
    "add() and remove() can be used as sets are mutable"
   ]
  },
  {
   "cell_type": "code",
   "execution_count": 172,
   "metadata": {},
   "outputs": [
    {
     "data": {
      "text/plain": [
       "{1, 2, 3, 4, 5, 'India'}"
      ]
     },
     "execution_count": 172,
     "metadata": {},
     "output_type": "execute_result"
    }
   ],
   "source": [
    "a = {1, 2, 3, 4, 5}\n",
    "a.add(\"India\")\n",
    "a"
   ]
  },
  {
   "cell_type": "markdown",
   "metadata": {},
   "source": [
    "### Set Operations like union, intersection or differences btw two sets"
   ]
  },
  {
   "cell_type": "code",
   "execution_count": 174,
   "metadata": {},
   "outputs": [
    {
     "name": "stdout",
     "output_type": "stream",
     "text": [
      "{0, 1, 2, 'Java'} {4, 5, 6, 'Python'}\n"
     ]
    }
   ],
   "source": [
    "A = {0,1,2,\"Java\"}\n",
    "B = {4,6,5, \"Python\"}\n",
    "print(A,B)"
   ]
  },
  {
   "cell_type": "markdown",
   "metadata": {},
   "source": [
    "UNION Of two sets"
   ]
  },
  {
   "cell_type": "code",
   "execution_count": 176,
   "metadata": {},
   "outputs": [
    {
     "name": "stdout",
     "output_type": "stream",
     "text": [
      "{0, 1, 2, 'Java', 4, 5, 6, 'Python'}\n"
     ]
    }
   ],
   "source": [
    "# UNION of two sets will give all the elements that are either in set A OR set B as a single set\n",
    "# we can also use as print(A.union(B))\n",
    "A = {0,1,2,4,\"Java\"}\n",
    "B = {4,6,5,0, \"Python\"}\n",
    "print(A|B)"
   ]
  },
  {
   "cell_type": "markdown",
   "metadata": {},
   "source": [
    "Intersection"
   ]
  },
  {
   "cell_type": "code",
   "execution_count": 178,
   "metadata": {},
   "outputs": [
    {
     "name": "stdout",
     "output_type": "stream",
     "text": [
      "{0, 4}\n",
      "{0, 4}\n"
     ]
    }
   ],
   "source": [
    "#value that are there in BOTH set A and B\n",
    "# we can also use as print(A.intersection(B))\n",
    "A = {0,1,2,4,\"Java\"}\n",
    "B = {4,6,5,0, \"Python\"}\n",
    "print(A & B)\n",
    "print(A.intersection(B))"
   ]
  },
  {
   "cell_type": "markdown",
   "metadata": {},
   "source": [
    "Differences"
   ]
  },
  {
   "cell_type": "code",
   "execution_count": 181,
   "metadata": {},
   "outputs": [
    {
     "name": "stdout",
     "output_type": "stream",
     "text": [
      "{1, 2, 'Java'}\n"
     ]
    }
   ],
   "source": [
    "# the output will be values which are not in B but in A it is going to remove all the elements from A that are in B and gives only the values in A\n",
    "# we can also use as print(A.difference(B))\n",
    "A = {0,1,2,4,\"Java\"}\n",
    "B = {4,6,5,0, \"Python\"}\n",
    "print(A - B)"
   ]
  },
  {
   "cell_type": "markdown",
   "metadata": {},
   "source": [
    "Symmetric difference"
   ]
  },
  {
   "cell_type": "code",
   "execution_count": 182,
   "metadata": {},
   "outputs": [
    {
     "name": "stdout",
     "output_type": "stream",
     "text": [
      "{1, 2, 'Java', 5, 6, 'Python'}\n"
     ]
    }
   ],
   "source": [
    "# Output will be the union of sets but removes intersected values and gives the remaining\n",
    "# either in A or in B but not in A and B\n",
    "A = {0,1,2,4,\"Java\"}\n",
    "B = {4,6,5,0, \"Python\"}\n",
    "print(A ^ B)"
   ]
  },
  {
   "cell_type": "markdown",
   "metadata": {},
   "source": [
    "Let’s say you have two lists A and B. Identify the elements which are common in the two lists A and B and return them in a sorted manner."
   ]
  },
  {
   "cell_type": "code",
   "execution_count": 194,
   "metadata": {},
   "outputs": [
    {
     "name": "stdout",
     "output_type": "stream",
     "text": [
      "[3, 5]\n"
     ]
    }
   ],
   "source": [
    "list_1 = [5,5,5,5,5,5,5,3]\n",
    "list_2 = [3,3,5,5,1,7,2]\n",
    "set_1 = set(list_1)\n",
    "set_2 = set(list_2)\n",
    "answer = sorted(set_1.intersection(set_2))\n",
    "print(answer)"
   ]
  },
  {
   "cell_type": "code",
   "execution_count": 195,
   "metadata": {},
   "outputs": [
    {
     "name": "stdout",
     "output_type": "stream",
     "text": [
      "4\n"
     ]
    }
   ],
   "source": [
    "nums = set([1,1,2,3,3,3,4])\n",
    "print(len(nums))"
   ]
  },
  {
   "cell_type": "markdown",
   "metadata": {},
   "source": [
    "## DICTIONARIES\n",
    "Dict are used to store key and value pairs<br>\n",
    "KEY is like an index, which is unique and immutable<br>\n",
    "VALUES are the objects that contain information<br>\n",
    "Values are accessed using their keys <br>\n",
    "Each key is followed by value separated by a colon<br>\n",
    "The values can be mutable, ummutable and duplciates<br>\n",
    "Each key and value pair is separated by a comma enclosed in curly brackets<br>"
   ]
  },
  {
   "cell_type": "code",
   "execution_count": 196,
   "metadata": {},
   "outputs": [
    {
     "name": "stdout",
     "output_type": "stream",
     "text": [
      "USD INR\n"
     ]
    }
   ],
   "source": [
    "D = {\"India\": \"INR\", \"USA\": \"USD\", \"FRANCE\": \"EURO\"}\n",
    "print(D[\"USA\"], D[\"India\"])"
   ]
  },
  {
   "cell_type": "code",
   "execution_count": 197,
   "metadata": {},
   "outputs": [
    {
     "data": {
      "text/plain": [
       "{'India': 'INR', 'USA': '$', 'FRANCE': 'EURO'}"
      ]
     },
     "execution_count": 197,
     "metadata": {},
     "output_type": "execute_result"
    }
   ],
   "source": [
    "# Replace the value of a key we can also use Update({\"key\": \"value\"})\n",
    "D = {\"India\": \"INR\", \"USA\": \"USD\", \"FRANCE\": \"EURO\"}\n",
    "D[\"USA\"] = \"$\"\n",
    "D"
   ]
  },
  {
   "cell_type": "code",
   "execution_count": 198,
   "metadata": {},
   "outputs": [
    {
     "data": {
      "text/plain": [
       "{'India': 'INR', 'USA': '$', 'FRANCE': 'EURO', 'Japan': 'Yen'}"
      ]
     },
     "execution_count": 198,
     "metadata": {},
     "output_type": "execute_result"
    }
   ],
   "source": [
    "# Insert new KEY-VALUE pair\n",
    "D[\"Japan\"] = \"Yen\"\n",
    "D"
   ]
  },
  {
   "cell_type": "code",
   "execution_count": 199,
   "metadata": {},
   "outputs": [
    {
     "data": {
      "text/plain": [
       "{'India': 'INR', 'USA': '$', 'Japan': 'Yen'}"
      ]
     },
     "execution_count": 199,
     "metadata": {},
     "output_type": "execute_result"
    }
   ],
   "source": [
    "# Deleye a KEY-VALUE pair\n",
    "del D[\"FRANCE\"]\n",
    "D"
   ]
  },
  {
   "cell_type": "markdown",
   "metadata": {},
   "source": [
    "### Sorted"
   ]
  },
  {
   "cell_type": "code",
   "execution_count": 225,
   "metadata": {},
   "outputs": [
    {
     "data": {
      "text/plain": [
       "['FRANCE', 'India', 'USA']"
      ]
     },
     "execution_count": 225,
     "metadata": {},
     "output_type": "execute_result"
    }
   ],
   "source": [
    "# Sort a dict will give keys in alpha order\n",
    "D = {\"India\": \"INR\", \"USA\": \"USD\", \"FRANCE\": \"EURO\"}\n",
    "sorted(D)"
   ]
  },
  {
   "cell_type": "code",
   "execution_count": 203,
   "metadata": {},
   "outputs": [
    {
     "data": {
      "text/plain": [
       "dict_values(['INR', 'USD', 'EURO'])"
      ]
     },
     "execution_count": 203,
     "metadata": {},
     "output_type": "execute_result"
    }
   ],
   "source": [
    "# extract values from dict in sorted way and also key using .keys() function\n",
    "d = {\"India\": \"INR\", \"USA\": \"USD\", \"FRANCE\": \"EURO\"}\n",
    "d.values()"
   ]
  },
  {
   "cell_type": "markdown",
   "metadata": {},
   "source": [
    "Write code to fetch the profession of the employee with Employee id - 104 from an employee input given in the form of a dictionary where key represent employ id and values represent the name, age, and profession (in the same order)."
   ]
  },
  {
   "cell_type": "code",
   "execution_count": 214,
   "metadata": {},
   "outputs": [
    {
     "data": {
      "text/plain": [
       "'Product Lead'"
      ]
     },
     "execution_count": 214,
     "metadata": {},
     "output_type": "execute_result"
    }
   ],
   "source": [
    "Employee_data = { 101:['Shiva', 24, 'Content Strategist'] ,102:['Udit',25,'Content Strategist'], 103:['Sonam', 28,'Sr Manager'], 104:['Ansari',29,'Product Lead' ],105:['Huzefa',32,'Project Manager' ]}\n",
    "Employee_data[104][2]"
   ]
  },
  {
   "cell_type": "code",
   "execution_count": 216,
   "metadata": {},
   "outputs": [
    {
     "data": {
      "text/plain": [
       "{'a': 1, 'b': 2}"
      ]
     },
     "execution_count": 216,
     "metadata": {},
     "output_type": "execute_result"
    }
   ],
   "source": [
    "d = dict(a=1, b=2)\n",
    "d"
   ]
  },
  {
   "cell_type": "code",
   "execution_count": 218,
   "metadata": {},
   "outputs": [
    {
     "data": {
      "text/plain": [
       "{'a': 1, 'b': 2}"
      ]
     },
     "execution_count": 218,
     "metadata": {},
     "output_type": "execute_result"
    }
   ],
   "source": [
    "d = {'a':1, 'b':2}\n",
    "d"
   ]
  },
  {
   "cell_type": "markdown",
   "metadata": {},
   "source": [
    "From a Dictionary input_dict={'Name': 'Monty', 'Profession': 'Singer' }, get the value of a key ‘Label’ which is not a part of the dictionary, in such a way that Python doesn't hit an error. If the key does not exist in the dictionary, Python should return 'NA."
   ]
  },
  {
   "cell_type": "code",
   "execution_count": 224,
   "metadata": {},
   "outputs": [
    {
     "name": "stdout",
     "output_type": "stream",
     "text": [
      "NA\n"
     ]
    }
   ],
   "source": [
    "input_dict= {'Name': 'Monty', 'Profession': 'Singer'}\n",
    "# Get the value for the key 'Label' with a value of 'NA'\n",
    "answer = input_dict.get('Label', 'NA')\n",
    "# if that key is not there in dict outsput should be NA\n",
    "print(answer)\n",
    "\n"
   ]
  },
  {
   "cell_type": "markdown",
   "metadata": {},
   "source": [
    "Create a SORTED list of all values from the dictionary input_dict = {'Jack Dorsey' : 'Twitter' , 'Tim Cook' : 'Apple','Jeff Bezos' : 'Amazon' ,'Mukesh Ambani' : 'RJIO'}"
   ]
  },
  {
   "cell_type": "code",
   "execution_count": 227,
   "metadata": {},
   "outputs": [
    {
     "data": {
      "text/plain": [
       "['Amazon', 'Apple', 'RJIO', 'Twitter']"
      ]
     },
     "execution_count": 227,
     "metadata": {},
     "output_type": "execute_result"
    }
   ],
   "source": [
    "input_dict = {'Jack Dorsey' : 'Twitter' , 'Tim Cook' : 'Apple','Jeff Bezos' : 'Amazon' ,'Mukesh Ambani' : 'RJIO'}\n",
    "sorted(input_dict.values())"
   ]
  },
  {
   "cell_type": "markdown",
   "metadata": {},
   "source": [
    "Suppose you want to know the total score of the Indian cricket team in a given match. To do so, your task is to find the sum of all the scores of the Indian team players. The scores are provided as a list, with each element as an individual score of the players. Also, there is a condition that if the number of elements in the list is more than 11, then it is an invalid input and the output should be -1."
   ]
  },
  {
   "cell_type": "code",
   "execution_count": 4,
   "metadata": {},
   "outputs": [
    {
     "name": "stdout",
     "output_type": "stream",
     "text": [
      "65\n"
     ]
    }
   ],
   "source": [
    "import ast \n",
    "scores = ast.literal_eval(input())\n",
    "# create a variable to find sum of the scores\n",
    "total_sum = sum(scores)\n",
    "#check if the length of the list of score is greater than 11 output should be -1\n",
    "if len(scores) > 11:\n",
    "    print(-1)\n",
    "#else output should be the total sum of scores in list\n",
    "else:\n",
    "    print(total_sum)\n"
   ]
  },
  {
   "cell_type": "markdown",
   "metadata": {},
   "source": [
    "Given a list of strings, write a program to find the number of strings whose length is greater than or equal to K, where K is a positive integer."
   ]
  },
  {
   "cell_type": "code",
   "execution_count": 10,
   "metadata": {},
   "outputs": [
    {
     "name": "stdout",
     "output_type": "stream",
     "text": [
      "0\n"
     ]
    }
   ],
   "source": [
    "# take a input of list and an integer with variable as K\n",
    "list_string = input([])\n",
    "K = int(input())\n",
    "string_count = 0\n",
    "for string in list_string:\n",
    "    if len(string) >= K:\n",
    "        string_count +=1    \n",
    "print(string_count)\n"
   ]
  },
  {
   "cell_type": "code",
   "execution_count": null,
   "metadata": {},
   "outputs": [],
   "source": [
    "    "
   ]
  }
 ],
 "metadata": {
  "kernelspec": {
   "display_name": "base",
   "language": "python",
   "name": "python3"
  },
  "language_info": {
   "codemirror_mode": {
    "name": "ipython",
    "version": 3
   },
   "file_extension": ".py",
   "mimetype": "text/x-python",
   "name": "python",
   "nbconvert_exporter": "python",
   "pygments_lexer": "ipython3",
   "version": "3.11.7"
  }
 },
 "nbformat": 4,
 "nbformat_minor": 2
}
